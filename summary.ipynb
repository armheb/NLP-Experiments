{
 "cells": [
  {
   "cell_type": "code",
   "execution_count": 1,
   "metadata": {},
   "outputs": [],
   "source": [
    "%matplotlib inline\n",
    "%reload_ext autoreload\n",
    "%autoreload 2"
   ]
  },
  {
   "cell_type": "code",
   "execution_count": 2,
   "metadata": {},
   "outputs": [
    {
     "name": "stderr",
     "output_type": "stream",
     "text": [
      "/home/bahram/anaconda3/envs/fastai/lib/python3.6/importlib/_bootstrap.py:219: RuntimeWarning: numpy.dtype size changed, may indicate binary incompatibility. Expected 96, got 88\n",
      "  return f(*args, **kwds)\n",
      "/home/bahram/anaconda3/envs/fastai/lib/python3.6/importlib/_bootstrap.py:219: RuntimeWarning: numpy.dtype size changed, may indicate binary incompatibility. Expected 96, got 88\n",
      "  return f(*args, **kwds)\n",
      "/home/bahram/anaconda3/envs/fastai/lib/python3.6/site-packages/sklearn/ensemble/weight_boosting.py:29: DeprecationWarning: numpy.core.umath_tests is an internal NumPy module and should not be imported. It will be removed in a future NumPy release.\n",
      "  from numpy.core.umath_tests import inner1d\n",
      "/home/bahram/anaconda3/envs/fastai/lib/python3.6/importlib/_bootstrap.py:219: RuntimeWarning: numpy.dtype size changed, may indicate binary incompatibility. Expected 96, got 88\n",
      "  return f(*args, **kwds)\n",
      "/home/bahram/anaconda3/envs/fastai/lib/python3.6/importlib/_bootstrap.py:219: RuntimeWarning: numpy.ufunc size changed, may indicate binary incompatibility. Expected 192, got 176\n",
      "  return f(*args, **kwds)\n"
     ]
    }
   ],
   "source": [
    "from fastai.text import *\n"
   ]
  },
  {
   "cell_type": "code",
   "execution_count": 3,
   "metadata": {},
   "outputs": [],
   "source": [
    "import html"
   ]
  },
  {
   "cell_type": "code",
   "execution_count": 4,
   "metadata": {},
   "outputs": [],
   "source": [
    "article_PATH = Path('data/News')\n",
    "summary_PATH = Path('data/Summaries')\n",
    "PATH = Path('data')\n",
    "TMP_PATH = PATH/'tmp'\n",
    "TMP_PATH.mkdir(exist_ok=True)"
   ]
  },
  {
   "cell_type": "code",
   "execution_count": 5,
   "metadata": {},
   "outputs": [],
   "source": [
    "CLASSES = ['business', 'entertainments', 'politics','sport','tech']\n",
    "\n",
    "def get_texts(path):\n",
    "    texts,labels = [],[]\n",
    "    for idx,label in enumerate(CLASSES):\n",
    "        for fname in (path/label).glob('*.*'):\n",
    "            texts.append(fname.open('r' , encoding='ibm866').read())\n",
    "            labels.append(idx)\n",
    "    return np.array(texts),np.array(labels)"
   ]
  },
  {
   "cell_type": "code",
   "execution_count": 6,
   "metadata": {},
   "outputs": [],
   "source": [
    "art_texts,art_labels = get_texts(article_PATH)\n",
    "sum_texts,sum_labels = get_texts(summary_PATH)"
   ]
  },
  {
   "cell_type": "code",
   "execution_count": 7,
   "metadata": {},
   "outputs": [
    {
     "data": {
      "text/plain": [
       "(1839, 1839)"
      ]
     },
     "execution_count": 7,
     "metadata": {},
     "output_type": "execute_result"
    }
   ],
   "source": [
    "len(art_texts), len(sum_texts)"
   ]
  },
  {
   "cell_type": "code",
   "execution_count": 8,
   "metadata": {},
   "outputs": [],
   "source": [
    "art_texts = list(art_texts)\n",
    "sum_texts = list(sum_texts)"
   ]
  },
  {
   "cell_type": "code",
   "execution_count": 9,
   "metadata": {},
   "outputs": [
    {
     "name": "stderr",
     "output_type": "stream",
     "text": [
      "/home/bahram/anaconda3/envs/fastai/lib/python3.6/importlib/_bootstrap.py:219: RuntimeWarning: numpy.dtype size changed, may indicate binary incompatibility. Expected 96, got 88\n",
      "  return f(*args, **kwds)\n",
      "/home/bahram/anaconda3/envs/fastai/lib/python3.6/importlib/_bootstrap.py:219: RuntimeWarning: numpy.ufunc size changed, may indicate binary incompatibility. Expected 192, got 176\n",
      "  return f(*args, **kwds)\n",
      "/home/bahram/anaconda3/envs/fastai/lib/python3.6/importlib/_bootstrap.py:219: RuntimeWarning: numpy.dtype size changed, may indicate binary incompatibility. Expected 96, got 88\n",
      "  return f(*args, **kwds)\n",
      "/home/bahram/anaconda3/envs/fastai/lib/python3.6/importlib/_bootstrap.py:219: RuntimeWarning: numpy.ufunc size changed, may indicate binary incompatibility. Expected 192, got 176\n",
      "  return f(*args, **kwds)\n",
      "/home/bahram/anaconda3/envs/fastai/lib/python3.6/importlib/_bootstrap.py:219: RuntimeWarning: numpy.dtype size changed, may indicate binary incompatibility. Expected 96, got 88\n",
      "  return f(*args, **kwds)\n",
      "/home/bahram/anaconda3/envs/fastai/lib/python3.6/importlib/_bootstrap.py:219: RuntimeWarning: numpy.ufunc size changed, may indicate binary incompatibility. Expected 192, got 176\n",
      "  return f(*args, **kwds)\n",
      "/home/bahram/anaconda3/envs/fastai/lib/python3.6/importlib/_bootstrap.py:219: RuntimeWarning: numpy.dtype size changed, may indicate binary incompatibility. Expected 96, got 88\n",
      "  return f(*args, **kwds)\n",
      "/home/bahram/anaconda3/envs/fastai/lib/python3.6/importlib/_bootstrap.py:219: RuntimeWarning: numpy.dtype size changed, may indicate binary incompatibility. Expected 96, got 88\n",
      "  return f(*args, **kwds)\n",
      "/home/bahram/anaconda3/envs/fastai/lib/python3.6/importlib/_bootstrap.py:219: RuntimeWarning: numpy.ufunc size changed, may indicate binary incompatibility. Expected 192, got 176\n",
      "  return f(*args, **kwds)\n",
      "/home/bahram/anaconda3/envs/fastai/lib/python3.6/importlib/_bootstrap.py:219: RuntimeWarning: numpy.ufunc size changed, may indicate binary incompatibility. Expected 192, got 176\n",
      "  return f(*args, **kwds)\n",
      "/home/bahram/anaconda3/envs/fastai/lib/python3.6/importlib/_bootstrap.py:219: RuntimeWarning: numpy.dtype size changed, may indicate binary incompatibility. Expected 96, got 88\n",
      "  return f(*args, **kwds)\n",
      "/home/bahram/anaconda3/envs/fastai/lib/python3.6/importlib/_bootstrap.py:219: RuntimeWarning: numpy.ufunc size changed, may indicate binary incompatibility. Expected 192, got 176\n",
      "  return f(*args, **kwds)\n"
     ]
    }
   ],
   "source": [
    "art_tok = Tokenizer.proc_all_mp(partition_by_cores(art_texts))"
   ]
  },
  {
   "cell_type": "code",
   "execution_count": 10,
   "metadata": {},
   "outputs": [
    {
     "name": "stderr",
     "output_type": "stream",
     "text": [
      "/home/bahram/anaconda3/envs/fastai/lib/python3.6/importlib/_bootstrap.py:219: RuntimeWarning: numpy.dtype size changed, may indicate binary incompatibility. Expected 96, got 88\n",
      "  return f(*args, **kwds)\n",
      "/home/bahram/anaconda3/envs/fastai/lib/python3.6/importlib/_bootstrap.py:219: RuntimeWarning: numpy.ufunc size changed, may indicate binary incompatibility. Expected 192, got 176\n",
      "  return f(*args, **kwds)\n",
      "/home/bahram/anaconda3/envs/fastai/lib/python3.6/importlib/_bootstrap.py:219: RuntimeWarning: numpy.dtype size changed, may indicate binary incompatibility. Expected 96, got 88\n",
      "  return f(*args, **kwds)\n",
      "/home/bahram/anaconda3/envs/fastai/lib/python3.6/importlib/_bootstrap.py:219: RuntimeWarning: numpy.ufunc size changed, may indicate binary incompatibility. Expected 192, got 176\n",
      "  return f(*args, **kwds)\n",
      "/home/bahram/anaconda3/envs/fastai/lib/python3.6/importlib/_bootstrap.py:219: RuntimeWarning: numpy.dtype size changed, may indicate binary incompatibility. Expected 96, got 88\n",
      "  return f(*args, **kwds)\n",
      "/home/bahram/anaconda3/envs/fastai/lib/python3.6/importlib/_bootstrap.py:219: RuntimeWarning: numpy.dtype size changed, may indicate binary incompatibility. Expected 96, got 88\n",
      "  return f(*args, **kwds)\n",
      "/home/bahram/anaconda3/envs/fastai/lib/python3.6/importlib/_bootstrap.py:219: RuntimeWarning: numpy.dtype size changed, may indicate binary incompatibility. Expected 96, got 88\n",
      "  return f(*args, **kwds)\n",
      "/home/bahram/anaconda3/envs/fastai/lib/python3.6/importlib/_bootstrap.py:219: RuntimeWarning: numpy.dtype size changed, may indicate binary incompatibility. Expected 96, got 88\n",
      "  return f(*args, **kwds)\n",
      "/home/bahram/anaconda3/envs/fastai/lib/python3.6/importlib/_bootstrap.py:219: RuntimeWarning: numpy.ufunc size changed, may indicate binary incompatibility. Expected 192, got 176\n",
      "  return f(*args, **kwds)\n",
      "/home/bahram/anaconda3/envs/fastai/lib/python3.6/importlib/_bootstrap.py:219: RuntimeWarning: numpy.ufunc size changed, may indicate binary incompatibility. Expected 192, got 176\n",
      "  return f(*args, **kwds)\n",
      "/home/bahram/anaconda3/envs/fastai/lib/python3.6/importlib/_bootstrap.py:219: RuntimeWarning: numpy.ufunc size changed, may indicate binary incompatibility. Expected 192, got 176\n",
      "  return f(*args, **kwds)\n",
      "/home/bahram/anaconda3/envs/fastai/lib/python3.6/importlib/_bootstrap.py:219: RuntimeWarning: numpy.ufunc size changed, may indicate binary incompatibility. Expected 192, got 176\n",
      "  return f(*args, **kwds)\n"
     ]
    }
   ],
   "source": [
    "sum_tok = Tokenizer.proc_all_mp(partition_by_cores(sum_texts))"
   ]
  },
  {
   "cell_type": "code",
   "execution_count": 11,
   "metadata": {},
   "outputs": [
    {
     "data": {
      "text/plain": [
       "(['soros',\n",
       "  'group',\n",
       "  'warns',\n",
       "  'of',\n",
       "  'kazakh',\n",
       "  'close',\n",
       "  '\\n\\n',\n",
       "  'the',\n",
       "  'open',\n",
       "  'society',\n",
       "  'institute',\n",
       "  '(',\n",
       "  't_up',\n",
       "  'osi',\n",
       "  ')',\n",
       "  ',',\n",
       "  'financed',\n",
       "  'by',\n",
       "  'billionaire',\n",
       "  'george',\n",
       "  'soros',\n",
       "  ',',\n",
       "  'has',\n",
       "  'accused',\n",
       "  'kazakhstan',\n",
       "  'officials',\n",
       "  'of',\n",
       "  'trying',\n",
       "  'to',\n",
       "  'close',\n",
       "  'down',\n",
       "  'its',\n",
       "  'local',\n",
       "  'office',\n",
       "  '.',\n",
       "  '\\n\\n',\n",
       "  'a',\n",
       "  'demand',\n",
       "  'for',\n",
       "  'unpaid',\n",
       "  'taxes',\n",
       "  'and',\n",
       "  'fines',\n",
       "  'of',\n",
       "  '$',\n",
       "  '600,000',\n",
       "  '(',\n",
       "  '┬',\n",
       "  'г425,000',\n",
       "  ')',\n",
       "  'is',\n",
       "  'politically',\n",
       "  'motivated',\n",
       "  ',',\n",
       "  'the',\n",
       "  't_up',\n",
       "  'osi',\n",
       "  'claimed',\n",
       "  ',',\n",
       "  'adding',\n",
       "  'that',\n",
       "  'it',\n",
       "  'paid',\n",
       "  'the',\n",
       "  'money',\n",
       "  'in',\n",
       "  'october',\n",
       "  '.',\n",
       "  'the',\n",
       "  'organisation',\n",
       "  'has',\n",
       "  'found',\n",
       "  'itself',\n",
       "  'in',\n",
       "  'trouble',\n",
       "  'after',\n",
       "  'being',\n",
       "  'accused',\n",
       "  'of',\n",
       "  'helping',\n",
       "  'to',\n",
       "  'topple',\n",
       "  'georgia',\n",
       "  \"'s\",\n",
       "  'former',\n",
       "  'president',\n",
       "  '.',\n",
       "  'it',\n",
       "  'denies',\n",
       "  'having',\n",
       "  'any',\n",
       "  'role',\n",
       "  ',',\n",
       "  'but',\n",
       "  'offices',\n",
       "  'have',\n",
       "  'had',\n",
       "  'to',\n",
       "  'close',\n",
       "  'across',\n",
       "  'the',\n",
       "  'region',\n",
       "  '.',\n",
       "  '\\n\\n',\n",
       "  'the',\n",
       "  't_up',\n",
       "  'osi',\n",
       "  'shut',\n",
       "  'its',\n",
       "  'office',\n",
       "  'in',\n",
       "  'moscow',\n",
       "  'last',\n",
       "  'year',\n",
       "  'and',\n",
       "  'has',\n",
       "  'withdrawn',\n",
       "  'from',\n",
       "  'uzbekistan',\n",
       "  'and',\n",
       "  'belarus',\n",
       "  '.',\n",
       "  'in',\n",
       "  'the',\n",
       "  'ukraine',\n",
       "  'earlier',\n",
       "  'this',\n",
       "  'year',\n",
       "  ',',\n",
       "  'mr',\n",
       "  'soros',\n",
       "  '-',\n",
       "  'who',\n",
       "  'took',\n",
       "  'on',\n",
       "  'the',\n",
       "  'bank',\n",
       "  'of',\n",
       "  'england',\n",
       "  'in',\n",
       "  'the',\n",
       "  '1990s',\n",
       "  '-',\n",
       "  'and',\n",
       "  'won',\n",
       "  ',',\n",
       "  'was',\n",
       "  'pelted',\n",
       "  'by',\n",
       "  'protestors',\n",
       "  '.',\n",
       "  '\"',\n",
       "  'this',\n",
       "  'legal',\n",
       "  'prosecution',\n",
       "  'can',\n",
       "  'be',\n",
       "  'considered',\n",
       "  'an',\n",
       "  'attempt',\n",
       "  'by',\n",
       "  'the',\n",
       "  'government',\n",
       "  'to',\n",
       "  'force',\n",
       "  'soros',\n",
       "  'foundation',\n",
       "  '-',\n",
       "  'kazakhstan',\n",
       "  'to',\n",
       "  'cease',\n",
       "  'its',\n",
       "  'activities',\n",
       "  'in',\n",
       "  'kazakhstan',\n",
       "  'and',\n",
       "  'shut',\n",
       "  'its',\n",
       "  'doors',\n",
       "  'for',\n",
       "  'kazakh',\n",
       "  'citizens',\n",
       "  'and',\n",
       "  'organisations',\n",
       "  ',',\n",
       "  '\"',\n",
       "  'the',\n",
       "  't_up',\n",
       "  'osi',\n",
       "  'said',\n",
       "  '.',\n",
       "  '\\n\\n',\n",
       "  'the',\n",
       "  't_up',\n",
       "  'osi',\n",
       "  'aims',\n",
       "  'to',\n",
       "  'promote',\n",
       "  'democratic',\n",
       "  'and',\n",
       "  'open',\n",
       "  ',',\n",
       "  'market',\n",
       "  '-',\n",
       "  'based',\n",
       "  'societies',\n",
       "  '.',\n",
       "  'since',\n",
       "  'the',\n",
       "  'break',\n",
       "  'up',\n",
       "  'of',\n",
       "  'the',\n",
       "  'soviet',\n",
       "  'union',\n",
       "  'in',\n",
       "  '1991',\n",
       "  ',',\n",
       "  'kazakhstan',\n",
       "  'has',\n",
       "  'been',\n",
       "  'dominated',\n",
       "  'by',\n",
       "  'its',\n",
       "  'president',\n",
       "  'nursultan',\n",
       "  'abish',\n",
       "  '-',\n",
       "  'uly',\n",
       "  'nazarbayev',\n",
       "  '.',\n",
       "  'he',\n",
       "  'has',\n",
       "  'powers',\n",
       "  'for',\n",
       "  'life',\n",
       "  ',',\n",
       "  'while',\n",
       "  'insulting',\n",
       "  'the',\n",
       "  'president',\n",
       "  'and',\n",
       "  'officials',\n",
       "  'has',\n",
       "  'been',\n",
       "  'made',\n",
       "  'a',\n",
       "  'criminal',\n",
       "  'offence',\n",
       "  '.',\n",
       "  'the',\n",
       "  'government',\n",
       "  'controls',\n",
       "  'the',\n",
       "  'printing',\n",
       "  'presses',\n",
       "  'and',\n",
       "  'most',\n",
       "  'radio',\n",
       "  'and',\n",
       "  'tv',\n",
       "  'transmission',\n",
       "  'facilities',\n",
       "  '.',\n",
       "  'it',\n",
       "  'operates',\n",
       "  'the',\n",
       "  'country',\n",
       "  \"'s\",\n",
       "  'national',\n",
       "  'radio',\n",
       "  'and',\n",
       "  'tv',\n",
       "  'networks',\n",
       "  '.',\n",
       "  'recent',\n",
       "  'elections',\n",
       "  'were',\n",
       "  'criticised',\n",
       "  'as',\n",
       "  'flawed',\n",
       "  'and',\n",
       "  'the',\n",
       "  'opposition',\n",
       "  'claimed',\n",
       "  'there',\n",
       "  'was',\n",
       "  'widespread',\n",
       "  'vote',\n",
       "  'rigging',\n",
       "  '.',\n",
       "  'supporters',\n",
       "  ',',\n",
       "  'however',\n",
       "  ',',\n",
       "  'say',\n",
       "  'he',\n",
       "  'brings',\n",
       "  'much',\n",
       "  'needed',\n",
       "  'stability',\n",
       "  'to',\n",
       "  'a',\n",
       "  'region',\n",
       "  'where',\n",
       "  'islamic',\n",
       "  'militancy',\n",
       "  'is',\n",
       "  'on',\n",
       "  'the',\n",
       "  'rise',\n",
       "  '.',\n",
       "  'they',\n",
       "  'also',\n",
       "  'credit',\n",
       "  'him',\n",
       "  'with',\n",
       "  'promoting',\n",
       "  'inter',\n",
       "  '-',\n",
       "  'ethnic',\n",
       "  'accord',\n",
       "  'and',\n",
       "  'pushing',\n",
       "  'through',\n",
       "  'harsh',\n",
       "  'reforms',\n",
       "  '.',\n",
       "  '\\n'],\n",
       " ['the',\n",
       "  'open',\n",
       "  'society',\n",
       "  'institute',\n",
       "  '(',\n",
       "  't_up',\n",
       "  'osi',\n",
       "  ')',\n",
       "  ',',\n",
       "  'financed',\n",
       "  'by',\n",
       "  'billionaire',\n",
       "  'george',\n",
       "  'soros',\n",
       "  ',',\n",
       "  'has',\n",
       "  'accused',\n",
       "  'kazakhstan',\n",
       "  'officials',\n",
       "  'of',\n",
       "  'trying',\n",
       "  'to',\n",
       "  'close',\n",
       "  'down',\n",
       "  'its',\n",
       "  'local',\n",
       "  'office.the',\n",
       "  't_up',\n",
       "  'osi',\n",
       "  'shut',\n",
       "  'its',\n",
       "  'office',\n",
       "  'in',\n",
       "  'moscow',\n",
       "  'last',\n",
       "  'year',\n",
       "  'and',\n",
       "  'has',\n",
       "  'withdrawn',\n",
       "  'from',\n",
       "  'uzbekistan',\n",
       "  'and',\n",
       "  'belarus.he',\n",
       "  'has',\n",
       "  'powers',\n",
       "  'for',\n",
       "  'life',\n",
       "  ',',\n",
       "  'while',\n",
       "  'insulting',\n",
       "  'the',\n",
       "  'president',\n",
       "  'and',\n",
       "  'officials',\n",
       "  'has',\n",
       "  'been',\n",
       "  'made',\n",
       "  'a',\n",
       "  'criminal',\n",
       "  'offence.\"this',\n",
       "  'legal',\n",
       "  'prosecution',\n",
       "  'can',\n",
       "  'be',\n",
       "  'considered',\n",
       "  'an',\n",
       "  'attempt',\n",
       "  'by',\n",
       "  'the',\n",
       "  'government',\n",
       "  'to',\n",
       "  'force',\n",
       "  'soros',\n",
       "  'foundation',\n",
       "  '-',\n",
       "  'kazakhstan',\n",
       "  'to',\n",
       "  'cease',\n",
       "  'its',\n",
       "  'activities',\n",
       "  'in',\n",
       "  'kazakhstan',\n",
       "  'and',\n",
       "  'shut',\n",
       "  'its',\n",
       "  'doors',\n",
       "  'for',\n",
       "  'kazakh',\n",
       "  'citizens',\n",
       "  'and',\n",
       "  'organisations',\n",
       "  ',',\n",
       "  '\"',\n",
       "  'the',\n",
       "  't_up',\n",
       "  'osi',\n",
       "  'said.since',\n",
       "  'the',\n",
       "  'break',\n",
       "  'up',\n",
       "  'of',\n",
       "  'the',\n",
       "  'soviet',\n",
       "  'union',\n",
       "  'in',\n",
       "  '1991',\n",
       "  ',',\n",
       "  'kazakhstan',\n",
       "  'has',\n",
       "  'been',\n",
       "  'dominated',\n",
       "  'by',\n",
       "  'its',\n",
       "  'president',\n",
       "  'nursultan',\n",
       "  'abish',\n",
       "  '-',\n",
       "  'uly',\n",
       "  'nazarbayev.the',\n",
       "  'organisation',\n",
       "  'has',\n",
       "  'found',\n",
       "  'itself',\n",
       "  'in',\n",
       "  'trouble',\n",
       "  'after',\n",
       "  'being',\n",
       "  'accused',\n",
       "  'of',\n",
       "  'helping',\n",
       "  'to',\n",
       "  'topple',\n",
       "  'georgia',\n",
       "  \"'s\",\n",
       "  'former',\n",
       "  'president',\n",
       "  '.'])"
      ]
     },
     "execution_count": 11,
     "metadata": {},
     "output_type": "execute_result"
    }
   ],
   "source": [
    "art_tok[0] , sum_tok[0]"
   ]
  },
  {
   "cell_type": "code",
   "execution_count": 12,
   "metadata": {},
   "outputs": [],
   "source": [
    "pickle.dump(art_tok, (PATH/'art_tok.pkl').open('wb'))\n",
    "pickle.dump(sum_tok, (PATH/'sum_tok.pkl').open('wb'))"
   ]
  },
  {
   "cell_type": "code",
   "execution_count": 13,
   "metadata": {},
   "outputs": [
    {
     "data": {
      "text/plain": [
       "[('the', 44365),\n",
       " ('.', 34668),\n",
       " (',', 29521),\n",
       " ('to', 22210),\n",
       " ('\"', 17751),\n",
       " ('of', 17034),\n",
       " ('and', 15590),\n",
       " ('a', 15544),\n",
       " ('in', 14917),\n",
       " ('-', 10414),\n",
       " ('\\n\\n', 8724),\n",
       " ('is', 7527),\n",
       " ('that', 7470),\n",
       " ('for', 7402),\n",
       " (\"'s\", 7069),\n",
       " ('it', 6796),\n",
       " ('on', 6449),\n",
       " ('said', 6429),\n",
       " ('be', 5126),\n",
       " ('he', 5112),\n",
       " ('was', 4941),\n",
       " ('with', 4408),\n",
       " ('has', 4281),\n",
       " ('as', 4276),\n",
       " ('have', 4242)]"
      ]
     },
     "execution_count": 13,
     "metadata": {},
     "output_type": "execute_result"
    }
   ],
   "source": [
    "freq = Counter(p for o in art_tok for p in o)\n",
    "freq.most_common(25)"
   ]
  },
  {
   "cell_type": "code",
   "execution_count": 14,
   "metadata": {},
   "outputs": [],
   "source": [
    "def toks2ids(tok,pre):\n",
    "    freq = Counter(p for o in tok for p in o)\n",
    "    itos = [o for o,c in freq.most_common(50000)]\n",
    "    itos.insert(0, '_bos_')\n",
    "    itos.insert(1, '_pad_')\n",
    "    itos.insert(2, '_eos_')\n",
    "    itos.insert(3, '_unk')\n",
    "    stoi = collections.defaultdict(lambda: 3, {v:k for k,v in enumerate(itos)})\n",
    "    ids = np.array([([stoi[o] for o in p] + [2]) for p in tok])\n",
    "    np.save(TMP_PATH/f'{pre}_ids.npy', ids)\n",
    "    pickle.dump(itos, open(TMP_PATH/f'{pre}_itos.pkl', 'wb'))\n",
    "    return ids,itos,stoi"
   ]
  },
  {
   "cell_type": "code",
   "execution_count": 15,
   "metadata": {},
   "outputs": [],
   "source": [
    "sum_ids,sum_itos,sum_stoi = toks2ids(sum_tok,'sum')\n",
    "art_ids,art_itos,art_stoi = toks2ids(art_tok,'art')"
   ]
  },
  {
   "cell_type": "code",
   "execution_count": 16,
   "metadata": {},
   "outputs": [],
   "source": [
    "def load_ids(pre):\n",
    "    ids = np.load(TMP_PATH/f'{pre}_ids.npy')\n",
    "    itos = pickle.load(open(TMP_PATH/f'{pre}_itos.pkl', 'rb'))\n",
    "    stoi = collections.defaultdict(lambda: 3, {v:k for k,v in enumerate(itos)})\n",
    "    return ids,itos,stoi"
   ]
  },
  {
   "cell_type": "code",
   "execution_count": 17,
   "metadata": {},
   "outputs": [],
   "source": [
    "sum_ids,sum_itos,sum_stoi = load_ids('sum')\n",
    "art_ids,art_itos,art_stoi = load_ids('art')"
   ]
  },
  {
   "cell_type": "code",
   "execution_count": 18,
   "metadata": {},
   "outputs": [
    {
     "data": {
      "text/plain": [
       "(['eu',\n",
       "  'to',\n",
       "  'probe',\n",
       "  'alitalia',\n",
       "  \"'\",\n",
       "  'state',\n",
       "  'aid',\n",
       "  \"'\",\n",
       "  '\\n\\n',\n",
       "  'the',\n",
       "  'european',\n",
       "  'commission',\n",
       "  'has',\n",
       "  'officially',\n",
       "  'launched',\n",
       "  'an',\n",
       "  'in',\n",
       "  '-',\n",
       "  'depth',\n",
       "  'investigation',\n",
       "  'into',\n",
       "  'whether',\n",
       "  'italian',\n",
       "  'airline',\n",
       "  'alitalia',\n",
       "  'is',\n",
       "  'receiving',\n",
       "  'illegal',\n",
       "  'state',\n",
       "  'aid',\n",
       "  '.',\n",
       "  '\\n\\n',\n",
       "  'commission',\n",
       "  'officials',\n",
       "  'are',\n",
       "  'to',\n",
       "  'look',\n",
       "  'at',\n",
       "  'rome',\n",
       "  \"'s\",\n",
       "  'provision',\n",
       "  'of',\n",
       "  'a',\n",
       "  '400',\n",
       "  'm',\n",
       "  'euro',\n",
       "  '(',\n",
       "  '$',\n",
       "  '495',\n",
       "  'm',\n",
       "  ';',\n",
       "  '┬',\n",
       "  'г275',\n",
       "  'm',\n",
       "  ')',\n",
       "  'loan',\n",
       "  'to',\n",
       "  'the',\n",
       "  'carrier',\n",
       "  '.',\n",
       "  'both',\n",
       "  'the',\n",
       "  'italian',\n",
       "  'government',\n",
       "  'and',\n",
       "  'alitalia',\n",
       "  'have',\n",
       "  'repeatedly',\n",
       "  'denied',\n",
       "  'that',\n",
       "  'the',\n",
       "  'money',\n",
       "  '-',\n",
       "  'part',\n",
       "  'of',\n",
       "  'a',\n",
       "  'vital',\n",
       "  'restructuring',\n",
       "  'plan',\n",
       "  '-',\n",
       "  'is',\n",
       "  'state',\n",
       "  'aid',\n",
       "  '.',\n",
       "  'the',\n",
       "  'investigation',\n",
       "  'could',\n",
       "  'take',\n",
       "  'up',\n",
       "  'to',\n",
       "  '18',\n",
       "  'months',\n",
       "  '.',\n",
       "  'however',\n",
       "  ',',\n",
       "  'transport',\n",
       "  'commissioner',\n",
       "  'jacques',\n",
       "  'barrot',\n",
       "  'said',\n",
       "  'he',\n",
       "  'wanted',\n",
       "  'it',\n",
       "  'to',\n",
       "  'be',\n",
       "  'carried',\n",
       "  'out',\n",
       "  'as',\n",
       "  'swiftly',\n",
       "  'as',\n",
       "  'possible',\n",
       "  '.',\n",
       "  '\"',\n",
       "  'the',\n",
       "  'italian',\n",
       "  'authorities',\n",
       "  'have',\n",
       "  'presented',\n",
       "  'a',\n",
       "  'serious',\n",
       "  'industrial',\n",
       "  'plan',\n",
       "  ',',\n",
       "  '\"',\n",
       "  'said',\n",
       "  'mr',\n",
       "  'barot',\n",
       "  '.',\n",
       "  '\"',\n",
       "  'we',\n",
       "  'now',\n",
       "  'have',\n",
       "  'to',\n",
       "  'verify',\n",
       "  'certain',\n",
       "  'aspects',\n",
       "  'to',\n",
       "  'confirm',\n",
       "  'that',\n",
       "  'this',\n",
       "  'plan',\n",
       "  'contains',\n",
       "  'no',\n",
       "  'state',\n",
       "  'aid',\n",
       "  '.',\n",
       "  'i',\n",
       "  'would',\n",
       "  'like',\n",
       "  'our',\n",
       "  'analysis',\n",
       "  'to',\n",
       "  'be',\n",
       "  'completed',\n",
       "  'swiftly',\n",
       "  '.',\n",
       "  '\"',\n",
       "  '\\n\\n',\n",
       "  'the',\n",
       "  'matter',\n",
       "  'of',\n",
       "  'possible',\n",
       "  'state',\n",
       "  'aid',\n",
       "  'was',\n",
       "  'brought',\n",
       "  'to',\n",
       "  'the',\n",
       "  'commission',\n",
       "  \"'s\",\n",
       "  'attention',\n",
       "  'by',\n",
       "  'eight',\n",
       "  'of',\n",
       "  'alitalia',\n",
       "  \"'s\",\n",
       "  'rivals',\n",
       "  ',',\n",
       "  'including',\n",
       "  'germany',\n",
       "  \"'s\",\n",
       "  'lufthansa',\n",
       "  ',',\n",
       "  'british',\n",
       "  'airways',\n",
       "  'and',\n",
       "  'spain',\n",
       "  \"'s\",\n",
       "  'iberia',\n",
       "  '.',\n",
       "  'while',\n",
       "  'alitalia',\n",
       "  'needs',\n",
       "  'to',\n",
       "  'restructure',\n",
       "  'to',\n",
       "  'bring',\n",
       "  'itself',\n",
       "  'back',\n",
       "  'to',\n",
       "  'profitability',\n",
       "  ',',\n",
       "  'the',\n",
       "  'rival',\n",
       "  'carriers',\n",
       "  'say',\n",
       "  'it',\n",
       "  'has',\n",
       "  'both',\n",
       "  'violated',\n",
       "  'state',\n",
       "  'aid',\n",
       "  'rules',\n",
       "  'and',\n",
       "  'threatened',\n",
       "  'competition',\n",
       "  '.',\n",
       "  'alitalia',\n",
       "  'lost',\n",
       "  '330',\n",
       "  'm',\n",
       "  'euros',\n",
       "  'in',\n",
       "  '2003',\n",
       "  'as',\n",
       "  'it',\n",
       "  'struggled',\n",
       "  'to',\n",
       "  'get',\n",
       "  'to',\n",
       "  'grips',\n",
       "  'with',\n",
       "  'high',\n",
       "  'costs',\n",
       "  ',',\n",
       "  'spiralling',\n",
       "  'oil',\n",
       "  'prices',\n",
       "  ',',\n",
       "  'competition',\n",
       "  'from',\n",
       "  'budget',\n",
       "  'carriers',\n",
       "  'and',\n",
       "  'reduced',\n",
       "  'demand',\n",
       "  '.',\n",
       "  'it',\n",
       "  'plans',\n",
       "  'to',\n",
       "  'split',\n",
       "  'into',\n",
       "  'az',\n",
       "  'fly',\n",
       "  'and',\n",
       "  'az',\n",
       "  'services',\n",
       "  ',',\n",
       "  'which',\n",
       "  'will',\n",
       "  'handle',\n",
       "  'air',\n",
       "  'and',\n",
       "  'ground',\n",
       "  'services',\n",
       "  'respectively',\n",
       "  '.',\n",
       "  'alitalia',\n",
       "  'already',\n",
       "  'enjoyed',\n",
       "  'state',\n",
       "  'aid',\n",
       "  'in',\n",
       "  '1997',\n",
       "  '.',\n",
       "  'eu',\n",
       "  'rules',\n",
       "  'prevent',\n",
       "  'that',\n",
       "  'from',\n",
       "  'happening',\n",
       "  'again',\n",
       "  'in',\n",
       "  'what',\n",
       "  'is',\n",
       "  'known',\n",
       "  'as',\n",
       "  'the',\n",
       "  '\"',\n",
       "  'one',\n",
       "  'time',\n",
       "  ',',\n",
       "  'last',\n",
       "  'time',\n",
       "  '\"',\n",
       "  'rule',\n",
       "  'for',\n",
       "  'airlines',\n",
       "  '.',\n",
       "  'otherwise',\n",
       "  ',',\n",
       "  'eu',\n",
       "  'regulations',\n",
       "  'on',\n",
       "  'state',\n",
       "  'aid',\n",
       "  'stipulate',\n",
       "  'that',\n",
       "  'governments',\n",
       "  'may',\n",
       "  'help',\n",
       "  'companies',\n",
       "  'financially',\n",
       "  ',',\n",
       "  'but',\n",
       "  'only',\n",
       "  'on',\n",
       "  'the',\n",
       "  'same',\n",
       "  'terms',\n",
       "  'as',\n",
       "  'a',\n",
       "  'commercial',\n",
       "  'investor',\n",
       "  '.',\n",
       "  'the',\n",
       "  'airline',\n",
       "  'declined',\n",
       "  'to',\n",
       "  'comment',\n",
       "  'on',\n",
       "  'the',\n",
       "  'commission',\n",
       "  'decision',\n",
       "  '.',\n",
       "  '\\n',\n",
       "  '_eos_'],\n",
       " 28378,\n",
       " 27200)"
      ]
     },
     "execution_count": 18,
     "metadata": {},
     "output_type": "execute_result"
    }
   ],
   "source": [
    "[art_itos[o] for o in art_ids[1]], len(sum_itos), len(art_itos)"
   ]
  },
  {
   "cell_type": "code",
   "execution_count": 19,
   "metadata": {},
   "outputs": [],
   "source": [
    "import fastText as ft\n"
   ]
  },
  {
   "cell_type": "code",
   "execution_count": 20,
   "metadata": {},
   "outputs": [],
   "source": [
    "# en_vecs = ft.load_model(str((PATH/'wiki.en.bin')))"
   ]
  },
  {
   "cell_type": "code",
   "execution_count": 21,
   "metadata": {},
   "outputs": [],
   "source": [
    "# def get_vecs(lang, ft_vecs):\n",
    "#     vecd = {w:ft_vecs.get_word_vector(w) for w in ft_vecs.get_words()}\n",
    "#     pickle.dump(vecd, open(PATH/f'wiki.{lang}.pkl','wb'))\n",
    "#     return vecd"
   ]
  },
  {
   "cell_type": "code",
   "execution_count": 22,
   "metadata": {},
   "outputs": [],
   "source": [
    "# en_vecd = get_vecs('en', en_vecs)"
   ]
  },
  {
   "cell_type": "code",
   "execution_count": 23,
   "metadata": {},
   "outputs": [],
   "source": [
    "en_vecd = pickle.load(open(PATH/'wiki.en.pkl','rb'))\n"
   ]
  },
  {
   "cell_type": "code",
   "execution_count": 24,
   "metadata": {},
   "outputs": [
    {
     "data": {
      "text/plain": [
       "300"
      ]
     },
     "execution_count": 24,
     "metadata": {},
     "output_type": "execute_result"
    }
   ],
   "source": [
    "dim_en_vec = len(en_vecd[','])\n",
    "dim_en_vec"
   ]
  },
  {
   "cell_type": "code",
   "execution_count": 25,
   "metadata": {},
   "outputs": [],
   "source": [
    "# en_vecs = np.stack(list(en_vecd.values()))\n",
    "# en_vecs.mean(),en_vecs.std()"
   ]
  },
  {
   "cell_type": "markdown",
   "metadata": {},
   "source": [
    "# ModelData"
   ]
  },
  {
   "cell_type": "code",
   "execution_count": 26,
   "metadata": {},
   "outputs": [
    {
     "data": {
      "text/plain": [
       "(252, 610)"
      ]
     },
     "execution_count": 26,
     "metadata": {},
     "output_type": "execute_result"
    }
   ],
   "source": [
    "sumlen_90 = int(np.percentile([len(o) for o in sum_ids], 80))\n",
    "artlen_90 = int(np.percentile([len(o) for o in art_ids], 80))\n",
    "sumlen_90,artlen_90"
   ]
  },
  {
   "cell_type": "code",
   "execution_count": 27,
   "metadata": {},
   "outputs": [],
   "source": [
    "sum_ids_tr = np.array([o[:sumlen_90] for o in sum_ids])\n",
    "art_ids_tr = np.array([o[:artlen_90] for o in art_ids])"
   ]
  },
  {
   "cell_type": "code",
   "execution_count": 28,
   "metadata": {},
   "outputs": [],
   "source": [
    "class Seq2SeqDataset(Dataset):\n",
    "    def __init__(self, x, y): self.x,self.y = x,y\n",
    "    def __getitem__(self, idx): return A(self.x[idx], self.y[idx])\n",
    "    def __len__(self): return len(self.x)"
   ]
  },
  {
   "cell_type": "code",
   "execution_count": 29,
   "metadata": {},
   "outputs": [
    {
     "data": {
      "text/plain": [
       "(1639, 200)"
      ]
     },
     "execution_count": 29,
     "metadata": {},
     "output_type": "execute_result"
    }
   ],
   "source": [
    "np.random.seed(42)\n",
    "trn_keep = np.random.rand(len(sum_ids_tr))>0.1\n",
    "sum_trn,art_trn = sum_ids_tr[trn_keep],art_ids_tr[trn_keep]\n",
    "sum_val,art_val = sum_ids_tr[~trn_keep],art_ids_tr[~trn_keep]\n",
    "len(sum_trn),len(sum_val)"
   ]
  },
  {
   "cell_type": "code",
   "execution_count": 30,
   "metadata": {},
   "outputs": [],
   "source": [
    "trn_ds = Seq2SeqDataset(art_trn,sum_trn)\n",
    "val_ds = Seq2SeqDataset(art_val,sum_val)"
   ]
  },
  {
   "cell_type": "code",
   "execution_count": 31,
   "metadata": {},
   "outputs": [],
   "source": [
    "bs = 4"
   ]
  },
  {
   "cell_type": "code",
   "execution_count": 32,
   "metadata": {},
   "outputs": [],
   "source": [
    "trn_samp = SortishSampler(sum_trn, key=lambda x: len(sum_trn[x]), bs=bs)\n",
    "val_samp = SortSampler(sum_val, key=lambda x: len(sum_val[x]))"
   ]
  },
  {
   "cell_type": "code",
   "execution_count": 33,
   "metadata": {},
   "outputs": [],
   "source": [
    "trn_dl = DataLoader(trn_ds, bs, transpose=True, transpose_y=True, num_workers=1, \n",
    "                    pad_idx=1, pre_pad=False, sampler=trn_samp)\n",
    "val_dl = DataLoader(val_ds, int(bs*1.6), transpose=True, transpose_y=True, num_workers=1, \n",
    "                    pad_idx=1, pre_pad=False, sampler=val_samp)\n",
    "md = ModelData(PATH, trn_dl, val_dl)"
   ]
  },
  {
   "cell_type": "code",
   "execution_count": 34,
   "metadata": {},
   "outputs": [
    {
     "data": {
      "text/plain": [
       "[(610, 252), (338, 129), (610, 252), (365, 129), (266, 100)]"
      ]
     },
     "execution_count": 34,
     "metadata": {},
     "output_type": "execute_result"
    }
   ],
   "source": [
    "it = iter(trn_dl)\n",
    "its = [next(it) for i in range(5)]\n",
    "[(len(x),len(y)) for x,y in its]"
   ]
  },
  {
   "cell_type": "code",
   "execution_count": 55,
   "metadata": {},
   "outputs": [],
   "source": [
    "def create_emb(itos, em_sz):\n",
    "    emb = nn.Embedding(len(itos), em_sz, padding_idx=1)\n",
    "    wgts = emb.weight.data\n",
    "#     miss = []\n",
    "#     for i,w in enumerate(itos):\n",
    "#         try: wgts[i] = torch.from_numpy(vecs[w]*3)\n",
    "#         except: miss.append(w)\n",
    "#     print(len(miss),miss[5:10])\n",
    "    return emb"
   ]
  },
  {
   "cell_type": "code",
   "execution_count": 56,
   "metadata": {},
   "outputs": [],
   "source": [
    "nh,nl = 1150,3\n"
   ]
  },
  {
   "cell_type": "code",
   "execution_count": 57,
   "metadata": {},
   "outputs": [],
   "source": [
    "class Seq2SeqStepper(Stepper):\n",
    "    def step(self, xs, y, epoch):\n",
    "        self.m.pr_force = (10-epoch)*0.1 if epoch<10 else 0\n",
    "        xtra = []\n",
    "        output = self.m(*xs, y)\n",
    "        if isinstance(output,tuple): output,*xtra = output\n",
    "        self.opt.zero_grad()\n",
    "        loss = raw_loss = self.crit(output, y)\n",
    "        if self.reg_fn: loss = self.reg_fn(output, xtra, raw_loss)\n",
    "        loss.backward()\n",
    "        if self.clip:   # Gradient clipping\n",
    "            nn.utils.clip_grad_norm(trainable_params_(self.m), self.clip)\n",
    "        self.opt.step()\n",
    "        return raw_loss.data[0]"
   ]
  },
  {
   "cell_type": "code",
   "execution_count": 58,
   "metadata": {},
   "outputs": [],
   "source": [
    "def rand_t(*sz): return torch.randn(sz)/math.sqrt(sz[0])\n",
    "def rand_p(*sz): return nn.Parameter(rand_t(*sz))"
   ]
  },
  {
   "cell_type": "code",
   "execution_count": 59,
   "metadata": {},
   "outputs": [],
   "source": [
    "class Seq2SeqRNN_All(nn.Module):\n",
    "    def __init__(self, vecs_enc, itos_enc, em_sz_enc, vecs_dec, itos_dec, em_sz_dec, nh, out_sl, nl=2):\n",
    "        super().__init__()\n",
    "        self.emb_enc = create_emb(itos_enc, em_sz_enc)\n",
    "        self.nl,self.nh,self.out_sl = nl,nh,out_sl\n",
    "        self.gru_enc = nn.GRU(em_sz_enc, nh, num_layers=nl, dropout=0.25, bidirectional=False)\n",
    "        self.out_enc = nn.Linear(nh, em_sz_dec, bias=False)\n",
    "        self.drop_enc = nn.Dropout(0.25)\n",
    "        self.emb_dec = create_emb(itos_dec, em_sz_dec)\n",
    "        self.gru_dec = nn.GRU(em_sz_dec, em_sz_dec, num_layers=nl, dropout=0.1)\n",
    "        self.emb_enc_drop = nn.Dropout(0.15)\n",
    "        self.out_drop = nn.Dropout(0.35)\n",
    "        self.out = nn.Linear(em_sz_dec, len(itos_dec))\n",
    "        self.out.weight.data = self.emb_dec.weight.data\n",
    "\n",
    "        self.W1 = rand_p(nh, em_sz_dec)\n",
    "        self.l2 = nn.Linear(em_sz_dec, em_sz_dec)\n",
    "        self.l3 = nn.Linear(em_sz_dec+nh, em_sz_dec)\n",
    "        self.V = rand_p(em_sz_dec)\n",
    "\n",
    "    def forward(self, inp, y=None , ret_attn=False):\n",
    "        sl,bs = inp.size()\n",
    "        h = self.initHidden(bs)\n",
    "        emb = self.emb_enc_drop(self.emb_enc(inp))\n",
    "        enc_out, h = self.gru_enc(emb, h)\n",
    "        h = h.view(2,2,bs,-1).permute(0,2,1,3).contiguous().view(2,bs,-1)\n",
    "        h = self.out_enc(self.drop_enc(h))\n",
    "\n",
    "        dec_inp = V(torch.zeros(bs).long())\n",
    "        res,attns = [],[]\n",
    "        w1e = enc_out @ self.W1\n",
    "        for i in range(self.out_sl):\n",
    "            w2h = self.l2(h[-1])\n",
    "            u = F.tanh(w1e + w2h)\n",
    "            a = F.softmax(u @ self.V, 0)\n",
    "            attns.append(a)\n",
    "            Xa = (a.unsqueeze(2) * enc_out).sum(0)\n",
    "            emb = self.emb_dec(dec_inp)\n",
    "            wgt_enc = self.l3(torch.cat([emb, Xa], 1))\n",
    "            \n",
    "            outp, h = self.gru_dec(wgt_enc.unsqueeze(0), h)\n",
    "            outp = self.out(self.out_drop(outp[0]))\n",
    "            res.append(outp)\n",
    "            dec_inp = V(outp.data.max(1)[1])\n",
    "            if (dec_inp==1).all(): break\n",
    "            if (y is not None) and (random.random()<self.pr_force):\n",
    "                if i>=len(y): break\n",
    "                dec_inp = y[i]\n",
    "        res = torch.stack(res)\n",
    "        if ret_attn: res = res,torch.stack(attns)\n",
    "        return res\n",
    "\n",
    "    def initHidden(self, bs): return V(torch.zeros(self.nl, bs, self.nh))"
   ]
  },
  {
   "cell_type": "code",
   "execution_count": 60,
   "metadata": {},
   "outputs": [],
   "source": [
    "opt_fn = partial(optim.Adam, betas=(0.8, 0.99))\n",
    "def seq2seq_loss(input, target):\n",
    "    sl,bs = target.size()\n",
    "    sl_in,bs_in,nc = input.size()\n",
    "    if sl>sl_in: input = F.pad(input, (0,0,0,0,0,sl-sl_in))\n",
    "    input = input[:sl]\n",
    "    return F.cross_entropy(input.view(-1,nc), target.view(-1))"
   ]
  },
  {
   "cell_type": "code",
   "execution_count": 61,
   "metadata": {},
   "outputs": [],
   "source": [
    "rnn = Seq2SeqRNN_All(en_vecd, art_itos,400, en_vecd, sum_itos,400, nh, sumlen_90)\n",
    "learn = RNN_Learner(md, SingleModel(to_gpu(rnn)), opt_fn=opt_fn)\n",
    "learn.crit = seq2seq_loss"
   ]
  },
  {
   "cell_type": "code",
   "execution_count": 47,
   "metadata": {},
   "outputs": [
    {
     "name": "stdout",
     "output_type": "stream",
     "text": [
      "--2018-08-26 19:58:01--  http://files.fast.ai/models/wt103/\n",
      "Resolving files.fast.ai (files.fast.ai)... 67.205.15.147\n",
      "Connecting to files.fast.ai (files.fast.ai)|67.205.15.147|:80... connected.\n",
      "HTTP request sent, awaiting response... 200 OK\n",
      "Length: 857 [text/html]\n",
      "Saving to: ‘data/models/wt103/index.html’\n",
      "\n",
      "models/wt103/index. 100%[===================>]     857  --.-KB/s    in 0s      \n",
      "\n",
      "2018-08-26 19:58:02 (80.0 MB/s) - ‘data/models/wt103/index.html’ saved [857/857]\n",
      "\n",
      "Loading robots.txt; please ignore errors.\n",
      "--2018-08-26 19:58:02--  http://files.fast.ai/robots.txt\n",
      "Reusing existing connection to files.fast.ai:80.\n",
      "HTTP request sent, awaiting response... 404 Not Found\n",
      "2018-08-26 19:58:02 ERROR 404: Not Found.\n",
      "\n",
      "--2018-08-26 19:58:02--  http://files.fast.ai/models/wt103/?C=N;O=D\n",
      "Reusing existing connection to files.fast.ai:80.\n",
      "HTTP request sent, awaiting response... 200 OK\n",
      "Length: 857 [text/html]\n",
      "Saving to: ‘data/models/wt103/index.html?C=N;O=D’\n",
      "\n",
      "models/wt103/index. 100%[===================>]     857  --.-KB/s    in 0s      \n",
      "\n",
      "2018-08-26 19:58:02 (99.9 MB/s) - ‘data/models/wt103/index.html?C=N;O=D’ saved [857/857]\n",
      "\n",
      "--2018-08-26 19:58:02--  http://files.fast.ai/models/wt103/?C=M;O=A\n",
      "Reusing existing connection to files.fast.ai:80.\n",
      "HTTP request sent, awaiting response... 200 OK\n",
      "Length: 857 [text/html]\n",
      "Saving to: ‘data/models/wt103/index.html?C=M;O=A’\n",
      "\n",
      "models/wt103/index. 100%[===================>]     857  --.-KB/s    in 0s      \n",
      "\n",
      "2018-08-26 19:58:03 (102 MB/s) - ‘data/models/wt103/index.html?C=M;O=A’ saved [857/857]\n",
      "\n",
      "--2018-08-26 19:58:03--  http://files.fast.ai/models/wt103/?C=S;O=A\n",
      "Reusing existing connection to files.fast.ai:80.\n",
      "HTTP request sent, awaiting response... 200 OK\n",
      "Length: 857 [text/html]\n",
      "Saving to: ‘data/models/wt103/index.html?C=S;O=A’\n",
      "\n",
      "models/wt103/index. 100%[===================>]     857  --.-KB/s    in 0s      \n",
      "\n",
      "2018-08-26 19:58:03 (103 MB/s) - ‘data/models/wt103/index.html?C=S;O=A’ saved [857/857]\n",
      "\n",
      "--2018-08-26 19:58:03--  http://files.fast.ai/models/wt103/?C=D;O=A\n",
      "Reusing existing connection to files.fast.ai:80.\n",
      "HTTP request sent, awaiting response... 200 OK\n",
      "Length: 857 [text/html]\n",
      "Saving to: ‘data/models/wt103/index.html?C=D;O=A’\n",
      "\n",
      "models/wt103/index. 100%[===================>]     857  --.-KB/s    in 0s      \n",
      "\n",
      "2018-08-26 19:58:03 (102 MB/s) - ‘data/models/wt103/index.html?C=D;O=A’ saved [857/857]\n",
      "\n",
      "--2018-08-26 19:58:03--  http://files.fast.ai/models/wt103/bwd_wt103.h5\n",
      "Reusing existing connection to files.fast.ai:80.\n",
      "HTTP request sent, awaiting response... 200 OK\n",
      "Length: 462387687 (441M) [text/plain]\n",
      "Saving to: ‘data/models/wt103/bwd_wt103.h5’\n",
      "\n",
      "models/wt103/bwd_wt 100%[===================>] 440.97M   734KB/s    in 10m 24s \n",
      "\n",
      "2018-08-26 20:08:27 (724 KB/s) - ‘data/models/wt103/bwd_wt103.h5’ saved [462387687/462387687]\n",
      "\n",
      "--2018-08-26 20:08:27--  http://files.fast.ai/models/wt103/bwd_wt103_enc.h5\n",
      "Reusing existing connection to files.fast.ai:80.\n",
      "HTTP request sent, awaiting response... 200 OK\n",
      "Length: 462387634 (441M) [text/plain]\n",
      "Saving to: ‘data/models/wt103/bwd_wt103_enc.h5’\n",
      "\n",
      "models/wt103/bwd_wt 100%[===================>] 440.97M   742KB/s    in 10m 17s \n",
      "\n",
      "2018-08-26 20:18:44 (732 KB/s) - ‘data/models/wt103/bwd_wt103_enc.h5’ saved [462387634/462387634]\n",
      "\n",
      "--2018-08-26 20:18:44--  http://files.fast.ai/models/wt103/fwd_wt103.h5\n",
      "Reusing existing connection to files.fast.ai:80.\n",
      "HTTP request sent, awaiting response... 200 OK\n",
      "Length: 462387687 (441M) [text/plain]\n",
      "Saving to: ‘data/models/wt103/fwd_wt103.h5’\n",
      "\n",
      "models/wt103/fwd_wt 100%[===================>] 440.97M   750KB/s    in 10m 14s \n",
      "\n",
      "2018-08-26 20:28:58 (736 KB/s) - ‘data/models/wt103/fwd_wt103.h5’ saved [462387687/462387687]\n",
      "\n",
      "--2018-08-26 20:28:58--  http://files.fast.ai/models/wt103/fwd_wt103_enc.h5\n",
      "Reusing existing connection to files.fast.ai:80.\n",
      "HTTP request sent, awaiting response... 200 OK\n",
      "Length: 462387634 (441M) [text/plain]\n",
      "Saving to: ‘data/models/wt103/fwd_wt103_enc.h5’\n",
      "\n",
      "models/wt103/fwd_wt 100%[===================>] 440.97M   746KB/s    in 10m 13s \n",
      "\n",
      "2018-08-26 20:39:12 (736 KB/s) - ‘data/models/wt103/fwd_wt103_enc.h5’ saved [462387634/462387634]\n",
      "\n",
      "--2018-08-26 20:39:12--  http://files.fast.ai/models/wt103/itos_wt103.pkl\n",
      "Reusing existing connection to files.fast.ai:80.\n",
      "HTTP request sent, awaiting response... 200 OK\n",
      "Length: 4161252 (4.0M) [text/plain]\n",
      "Saving to: ‘data/models/wt103/itos_wt103.pkl’\n",
      "\n",
      "models/wt103/itos_w 100%[===================>]   3.97M   724KB/s    in 5.7s    \n",
      "\n",
      "2018-08-26 20:39:17 (711 KB/s) - ‘data/models/wt103/itos_wt103.pkl’ saved [4161252/4161252]\n",
      "\n",
      "--2018-08-26 20:39:17--  http://files.fast.ai/models/wt103/?C=N;O=A\n",
      "Reusing existing connection to files.fast.ai:80.\n",
      "HTTP request sent, awaiting response... 200 OK\n",
      "Length: 857 [text/html]\n",
      "Saving to: ‘data/models/wt103/index.html?C=N;O=A’\n",
      "\n",
      "models/wt103/index. 100%[===================>]     857  --.-KB/s    in 0s      \n",
      "\n",
      "2018-08-26 20:39:18 (96.7 MB/s) - ‘data/models/wt103/index.html?C=N;O=A’ saved [857/857]\n",
      "\n",
      "--2018-08-26 20:39:18--  http://files.fast.ai/models/wt103/?C=M;O=D\n",
      "Reusing existing connection to files.fast.ai:80.\n",
      "HTTP request sent, awaiting response... 200 OK\n",
      "Length: 857 [text/html]\n",
      "Saving to: ‘data/models/wt103/index.html?C=M;O=D’\n",
      "\n",
      "models/wt103/index. 100%[===================>]     857  --.-KB/s    in 0s      \n",
      "\n",
      "2018-08-26 20:39:18 (95.0 MB/s) - ‘data/models/wt103/index.html?C=M;O=D’ saved [857/857]\n",
      "\n",
      "--2018-08-26 20:39:18--  http://files.fast.ai/models/wt103/?C=S;O=D\n",
      "Reusing existing connection to files.fast.ai:80.\n",
      "HTTP request sent, awaiting response... 200 OK\n",
      "Length: 857 [text/html]\n",
      "Saving to: ‘data/models/wt103/index.html?C=S;O=D’\n",
      "\n",
      "models/wt103/index. 100%[===================>]     857  --.-KB/s    in 0s      \n",
      "\n",
      "2018-08-26 20:39:18 (96.2 MB/s) - ‘data/models/wt103/index.html?C=S;O=D’ saved [857/857]\n",
      "\n",
      "--2018-08-26 20:39:18--  http://files.fast.ai/models/wt103/?C=D;O=D\n",
      "Reusing existing connection to files.fast.ai:80.\n",
      "HTTP request sent, awaiting response... 200 OK\n",
      "Length: 857 [text/html]\n",
      "Saving to: ‘data/models/wt103/index.html?C=D;O=D’\n",
      "\n",
      "models/wt103/index. 100%[===================>]     857  --.-KB/s    in 0s      \n",
      "\n",
      "2018-08-26 20:39:18 (97.2 MB/s) - ‘data/models/wt103/index.html?C=D;O=D’ saved [857/857]\n",
      "\n",
      "FINISHED --2018-08-26 20:39:18--\n",
      "Total wall clock time: 41m 17s\n",
      "Downloaded: 14 files, 1.7G in 41m 13s (732 KB/s)\n"
     ]
    }
   ],
   "source": [
    "# ! wget -nH -r -np -P {PATH} http://files.fast.ai/models/wt103/"
   ]
  },
  {
   "cell_type": "code",
   "execution_count": 48,
   "metadata": {},
   "outputs": [],
   "source": [
    "PRE_PATH = PATH/'models'/'wt103'\n",
    "PRE_LM_PATH = PRE_PATH/'fwd_wt103.h5'"
   ]
  },
  {
   "cell_type": "code",
   "execution_count": 49,
   "metadata": {},
   "outputs": [],
   "source": [
    "wgts = torch.load(PRE_LM_PATH, map_location=lambda storage, loc: storage)"
   ]
  },
  {
   "cell_type": "markdown",
   "metadata": {},
   "source": [
    "mean of first layer weights"
   ]
  },
  {
   "cell_type": "code",
   "execution_count": 50,
   "metadata": {},
   "outputs": [],
   "source": [
    "enc_wgts = to_np(wgts['0.encoder.weight'])\n",
    "row_m = enc_wgts.mean(0)"
   ]
  },
  {
   "cell_type": "code",
   "execution_count": 51,
   "metadata": {},
   "outputs": [],
   "source": [
    "itos2 = pickle.load((PRE_PATH/'itos_wt103.pkl').open('rb'))\n",
    "stoi2 = collections.defaultdict(lambda:-1, {v:k for k,v in enumerate(itos2)})"
   ]
  },
  {
   "cell_type": "code",
   "execution_count": 53,
   "metadata": {},
   "outputs": [],
   "source": [
    "new_w = np.zeros((len(art_itos), 400), dtype=np.float32)\n",
    "for i,w in enumerate(art_itos):\n",
    "    r = stoi2[w]\n",
    "    new_w[i] = enc_wgts[r] if r>=0 else row_m\n"
   ]
  },
  {
   "cell_type": "code",
   "execution_count": 54,
   "metadata": {},
   "outputs": [],
   "source": [
    "wgts['0.encoder.weight'] = T(new_w)\n",
    "wgts['0.encoder_with_dropout.embed.weight'] = T(np.copy(new_w))\n",
    "wgts['1.decoder.weight'] = T(np.copy(new_w))"
   ]
  },
  {
   "cell_type": "code",
   "execution_count": 62,
   "metadata": {},
   "outputs": [
    {
     "ename": "KeyError",
     "evalue": "'unexpected key \"0.encoder.weight\" in state_dict'",
     "output_type": "error",
     "traceback": [
      "\u001b[0;31m---------------------------------------------------------------------------\u001b[0m",
      "\u001b[0;31mKeyError\u001b[0m                                  Traceback (most recent call last)",
      "\u001b[0;32m<ipython-input-62-478101233256>\u001b[0m in \u001b[0;36m<module>\u001b[0;34m()\u001b[0m\n\u001b[0;32m----> 1\u001b[0;31m \u001b[0mlearn\u001b[0m\u001b[0;34m.\u001b[0m\u001b[0mmodel\u001b[0m\u001b[0;34m.\u001b[0m\u001b[0mload_state_dict\u001b[0m\u001b[0;34m(\u001b[0m\u001b[0mwgts\u001b[0m\u001b[0;34m)\u001b[0m\u001b[0;34m\u001b[0m\u001b[0m\n\u001b[0m",
      "\u001b[0;32m~/anaconda3/envs/fastai/lib/python3.6/site-packages/torch/nn/modules/module.py\u001b[0m in \u001b[0;36mload_state_dict\u001b[0;34m(self, state_dict, strict)\u001b[0m\n\u001b[1;32m    520\u001b[0m             \u001b[0;32melif\u001b[0m \u001b[0mstrict\u001b[0m\u001b[0;34m:\u001b[0m\u001b[0;34m\u001b[0m\u001b[0m\n\u001b[1;32m    521\u001b[0m                 raise KeyError('unexpected key \"{}\" in state_dict'\n\u001b[0;32m--> 522\u001b[0;31m                                .format(name))\n\u001b[0m\u001b[1;32m    523\u001b[0m         \u001b[0;32mif\u001b[0m \u001b[0mstrict\u001b[0m\u001b[0;34m:\u001b[0m\u001b[0;34m\u001b[0m\u001b[0m\n\u001b[1;32m    524\u001b[0m             \u001b[0mmissing\u001b[0m \u001b[0;34m=\u001b[0m \u001b[0mset\u001b[0m\u001b[0;34m(\u001b[0m\u001b[0mown_state\u001b[0m\u001b[0;34m.\u001b[0m\u001b[0mkeys\u001b[0m\u001b[0;34m(\u001b[0m\u001b[0;34m)\u001b[0m\u001b[0;34m)\u001b[0m \u001b[0;34m-\u001b[0m \u001b[0mset\u001b[0m\u001b[0;34m(\u001b[0m\u001b[0mstate_dict\u001b[0m\u001b[0;34m.\u001b[0m\u001b[0mkeys\u001b[0m\u001b[0;34m(\u001b[0m\u001b[0;34m)\u001b[0m\u001b[0;34m)\u001b[0m\u001b[0;34m\u001b[0m\u001b[0m\n",
      "\u001b[0;31mKeyError\u001b[0m: 'unexpected key \"0.encoder.weight\" in state_dict'"
     ]
    }
   ],
   "source": [
    "learn.model.load_state_dict(wgts)"
   ]
  },
  {
   "cell_type": "code",
   "execution_count": null,
   "metadata": {},
   "outputs": [],
   "source": []
  },
  {
   "cell_type": "code",
   "execution_count": null,
   "metadata": {},
   "outputs": [],
   "source": []
  },
  {
   "cell_type": "code",
   "execution_count": null,
   "metadata": {},
   "outputs": [],
   "source": []
  },
  {
   "cell_type": "code",
   "execution_count": null,
   "metadata": {},
   "outputs": [],
   "source": []
  },
  {
   "cell_type": "code",
   "execution_count": null,
   "metadata": {},
   "outputs": [],
   "source": []
  },
  {
   "cell_type": "code",
   "execution_count": 42,
   "metadata": {},
   "outputs": [
    {
     "data": {
      "application/vnd.jupyter.widget-view+json": {
       "model_id": "85ef71bca54e47dca8e1068f753ec667",
       "version_major": 2,
       "version_minor": 0
      },
      "text/plain": [
       "HBox(children=(IntProgress(value=0, description='Epoch', max=1), HTML(value='')))"
      ]
     },
     "metadata": {},
     "output_type": "display_data"
    },
    {
     "name": "stdout",
     "output_type": "stream",
     "text": [
      " 62%|██████▏   | 256/410 [04:26<02:40,  1.04s/it, loss=32.3]"
     ]
    },
    {
     "data": {
      "image/png": "[encoded data removed]",
      "text/plain": [
       "<Figure size 432x288 with 1 Axes>"
      ]
     },
     "metadata": {},
     "output_type": "display_data"
    }
   ],
   "source": [
    "learn.lr_find()\n",
    "learn.sched.plot()"
   ]
  },
  {
   "cell_type": "code",
   "execution_count": 42,
   "metadata": {},
   "outputs": [],
   "source": [
    "lr= 6e-4\n",
    "wd = 1e-7"
   ]
  },
  {
   "cell_type": "code",
   "execution_count": 43,
   "metadata": {},
   "outputs": [
    {
     "data": {
      "application/vnd.jupyter.widget-view+json": {
       "model_id": "b1567a75d65f471291a20f0483138cb2",
       "version_major": 2,
       "version_minor": 0
      },
      "text/plain": [
       "HBox(children=(IntProgress(value=0, description='Epoch', max=30), HTML(value='')))"
      ]
     },
     "metadata": {},
     "output_type": "display_data"
    },
    {
     "name": "stdout",
     "output_type": "stream",
     "text": [
      "epoch      trn_loss   val_loss                              \n",
      "    0      8.033596   8.26035   \n",
      "    1      6.39578    7.559353                              \n",
      "    2      5.838573   7.643671                              \n",
      "    3      5.92883    7.56033                               \n",
      "    4      5.680382   7.147855                              \n",
      "    5      5.642039   7.03784                               \n",
      "    6      5.793968   6.920664                              \n",
      "    7      5.936537   7.582027                              \n",
      " 53%|█████▎    | 217/410 [03:45<03:20,  1.04s/it, loss=6.5] "
     ]
    },
    {
     "ename": "KeyboardInterrupt",
     "evalue": "",
     "output_type": "error",
     "traceback": [
      "\u001b[0;31m---------------------------------------------------------------------------\u001b[0m",
      "\u001b[0;31mKeyboardInterrupt\u001b[0m                         Traceback (most recent call last)",
      "\u001b[0;32m<ipython-input-43-27f7b6c2d12e>\u001b[0m in \u001b[0;36m<module>\u001b[0;34m()\u001b[0m\n\u001b[0;32m----> 1\u001b[0;31m \u001b[0mlearn\u001b[0m\u001b[0;34m.\u001b[0m\u001b[0mfit\u001b[0m\u001b[0;34m(\u001b[0m\u001b[0mlr\u001b[0m\u001b[0;34m,\u001b[0m \u001b[0;36m1\u001b[0m\u001b[0;34m,\u001b[0m \u001b[0mwds\u001b[0m\u001b[0;34m=\u001b[0m\u001b[0mwd\u001b[0m\u001b[0;34m,\u001b[0m \u001b[0muse_clr\u001b[0m\u001b[0;34m=\u001b[0m\u001b[0;34m(\u001b[0m\u001b[0;36m20\u001b[0m\u001b[0;34m,\u001b[0m\u001b[0;36m10\u001b[0m\u001b[0;34m)\u001b[0m\u001b[0;34m,\u001b[0m \u001b[0mcycle_len\u001b[0m\u001b[0;34m=\u001b[0m\u001b[0;36m30\u001b[0m\u001b[0;34m,\u001b[0m \u001b[0mstepper\u001b[0m \u001b[0;34m=\u001b[0m \u001b[0mSeq2SeqStepper\u001b[0m\u001b[0;34m)\u001b[0m\u001b[0;34m\u001b[0m\u001b[0m\n\u001b[0m",
      "\u001b[0;32m~/anaconda3/envs/fastai/lib/python3.6/site-packages/fastai/text.py\u001b[0m in \u001b[0;36mfit\u001b[0;34m(self, *args, **kwargs)\u001b[0m\n\u001b[1;32m    209\u001b[0m \u001b[0;34m\u001b[0m\u001b[0m\n\u001b[1;32m    210\u001b[0m     \u001b[0;32mdef\u001b[0m \u001b[0m_get_crit\u001b[0m\u001b[0;34m(\u001b[0m\u001b[0mself\u001b[0m\u001b[0;34m,\u001b[0m \u001b[0mdata\u001b[0m\u001b[0;34m)\u001b[0m\u001b[0;34m:\u001b[0m \u001b[0;32mreturn\u001b[0m \u001b[0mF\u001b[0m\u001b[0;34m.\u001b[0m\u001b[0mcross_entropy\u001b[0m\u001b[0;34m\u001b[0m\u001b[0m\n\u001b[0;32m--> 211\u001b[0;31m     \u001b[0;32mdef\u001b[0m \u001b[0mfit\u001b[0m\u001b[0;34m(\u001b[0m\u001b[0mself\u001b[0m\u001b[0;34m,\u001b[0m \u001b[0;34m*\u001b[0m\u001b[0margs\u001b[0m\u001b[0;34m,\u001b[0m \u001b[0;34m**\u001b[0m\u001b[0mkwargs\u001b[0m\u001b[0;34m)\u001b[0m\u001b[0;34m:\u001b[0m \u001b[0;32mreturn\u001b[0m \u001b[0msuper\u001b[0m\u001b[0;34m(\u001b[0m\u001b[0;34m)\u001b[0m\u001b[0;34m.\u001b[0m\u001b[0mfit\u001b[0m\u001b[0;34m(\u001b[0m\u001b[0;34m*\u001b[0m\u001b[0margs\u001b[0m\u001b[0;34m,\u001b[0m \u001b[0;34m**\u001b[0m\u001b[0mkwargs\u001b[0m\u001b[0;34m,\u001b[0m \u001b[0mseq_first\u001b[0m\u001b[0;34m=\u001b[0m\u001b[0;32mTrue\u001b[0m\u001b[0;34m)\u001b[0m\u001b[0;34m\u001b[0m\u001b[0m\n\u001b[0m\u001b[1;32m    212\u001b[0m \u001b[0;34m\u001b[0m\u001b[0m\n\u001b[1;32m    213\u001b[0m     \u001b[0;32mdef\u001b[0m \u001b[0msave_encoder\u001b[0m\u001b[0;34m(\u001b[0m\u001b[0mself\u001b[0m\u001b[0;34m,\u001b[0m \u001b[0mname\u001b[0m\u001b[0;34m)\u001b[0m\u001b[0;34m:\u001b[0m \u001b[0msave_model\u001b[0m\u001b[0;34m(\u001b[0m\u001b[0mself\u001b[0m\u001b[0;34m.\u001b[0m\u001b[0mmodel\u001b[0m\u001b[0;34m[\u001b[0m\u001b[0;36m0\u001b[0m\u001b[0;34m]\u001b[0m\u001b[0;34m,\u001b[0m \u001b[0mself\u001b[0m\u001b[0;34m.\u001b[0m\u001b[0mget_model_path\u001b[0m\u001b[0;34m(\u001b[0m\u001b[0mname\u001b[0m\u001b[0;34m)\u001b[0m\u001b[0;34m)\u001b[0m\u001b[0;34m\u001b[0m\u001b[0m\n",
      "\u001b[0;32m~/anaconda3/envs/fastai/lib/python3.6/site-packages/fastai/learner.py\u001b[0m in \u001b[0;36mfit\u001b[0;34m(self, lrs, n_cycle, wds, **kwargs)\u001b[0m\n\u001b[1;32m    302\u001b[0m         \u001b[0mself\u001b[0m\u001b[0;34m.\u001b[0m\u001b[0msched\u001b[0m \u001b[0;34m=\u001b[0m \u001b[0;32mNone\u001b[0m\u001b[0;34m\u001b[0m\u001b[0m\n\u001b[1;32m    303\u001b[0m         \u001b[0mlayer_opt\u001b[0m \u001b[0;34m=\u001b[0m \u001b[0mself\u001b[0m\u001b[0;34m.\u001b[0m\u001b[0mget_layer_opt\u001b[0m\u001b[0;34m(\u001b[0m\u001b[0mlrs\u001b[0m\u001b[0;34m,\u001b[0m \u001b[0mwds\u001b[0m\u001b[0;34m)\u001b[0m\u001b[0;34m\u001b[0m\u001b[0m\n\u001b[0;32m--> 304\u001b[0;31m         \u001b[0;32mreturn\u001b[0m \u001b[0mself\u001b[0m\u001b[0;34m.\u001b[0m\u001b[0mfit_gen\u001b[0m\u001b[0;34m(\u001b[0m\u001b[0mself\u001b[0m\u001b[0;34m.\u001b[0m\u001b[0mmodel\u001b[0m\u001b[0;34m,\u001b[0m \u001b[0mself\u001b[0m\u001b[0;34m.\u001b[0m\u001b[0mdata\u001b[0m\u001b[0;34m,\u001b[0m \u001b[0mlayer_opt\u001b[0m\u001b[0;34m,\u001b[0m \u001b[0mn_cycle\u001b[0m\u001b[0;34m,\u001b[0m \u001b[0;34m**\u001b[0m\u001b[0mkwargs\u001b[0m\u001b[0;34m)\u001b[0m\u001b[0;34m\u001b[0m\u001b[0m\n\u001b[0m\u001b[1;32m    305\u001b[0m \u001b[0;34m\u001b[0m\u001b[0m\n\u001b[1;32m    306\u001b[0m     \u001b[0;32mdef\u001b[0m \u001b[0mwarm_up\u001b[0m\u001b[0;34m(\u001b[0m\u001b[0mself\u001b[0m\u001b[0;34m,\u001b[0m \u001b[0mlr\u001b[0m\u001b[0;34m,\u001b[0m \u001b[0mwds\u001b[0m\u001b[0;34m=\u001b[0m\u001b[0;32mNone\u001b[0m\u001b[0;34m)\u001b[0m\u001b[0;34m:\u001b[0m\u001b[0;34m\u001b[0m\u001b[0m\n",
      "\u001b[0;32m~/anaconda3/envs/fastai/lib/python3.6/site-packages/fastai/learner.py\u001b[0m in \u001b[0;36mfit_gen\u001b[0;34m(self, model, data, layer_opt, n_cycle, cycle_len, cycle_mult, cycle_save_name, best_save_name, use_clr, use_clr_beta, metrics, callbacks, use_wd_sched, norm_wds, wds_sched_mult, use_swa, swa_start, swa_eval_freq, **kwargs)\u001b[0m\n\u001b[1;32m    249\u001b[0m             \u001b[0mmetrics\u001b[0m\u001b[0;34m=\u001b[0m\u001b[0mmetrics\u001b[0m\u001b[0;34m,\u001b[0m \u001b[0mcallbacks\u001b[0m\u001b[0;34m=\u001b[0m\u001b[0mcallbacks\u001b[0m\u001b[0;34m,\u001b[0m \u001b[0mreg_fn\u001b[0m\u001b[0;34m=\u001b[0m\u001b[0mself\u001b[0m\u001b[0;34m.\u001b[0m\u001b[0mreg_fn\u001b[0m\u001b[0;34m,\u001b[0m \u001b[0mclip\u001b[0m\u001b[0;34m=\u001b[0m\u001b[0mself\u001b[0m\u001b[0;34m.\u001b[0m\u001b[0mclip\u001b[0m\u001b[0;34m,\u001b[0m \u001b[0mfp16\u001b[0m\u001b[0;34m=\u001b[0m\u001b[0mself\u001b[0m\u001b[0;34m.\u001b[0m\u001b[0mfp16\u001b[0m\u001b[0;34m,\u001b[0m\u001b[0;34m\u001b[0m\u001b[0m\n\u001b[1;32m    250\u001b[0m             \u001b[0mswa_model\u001b[0m\u001b[0;34m=\u001b[0m\u001b[0mself\u001b[0m\u001b[0;34m.\u001b[0m\u001b[0mswa_model\u001b[0m \u001b[0;32mif\u001b[0m \u001b[0muse_swa\u001b[0m \u001b[0;32melse\u001b[0m \u001b[0;32mNone\u001b[0m\u001b[0;34m,\u001b[0m \u001b[0mswa_start\u001b[0m\u001b[0;34m=\u001b[0m\u001b[0mswa_start\u001b[0m\u001b[0;34m,\u001b[0m\u001b[0;34m\u001b[0m\u001b[0m\n\u001b[0;32m--> 251\u001b[0;31m             swa_eval_freq=swa_eval_freq, **kwargs)\n\u001b[0m\u001b[1;32m    252\u001b[0m \u001b[0;34m\u001b[0m\u001b[0m\n\u001b[1;32m    253\u001b[0m     \u001b[0;32mdef\u001b[0m \u001b[0mget_layer_groups\u001b[0m\u001b[0;34m(\u001b[0m\u001b[0mself\u001b[0m\u001b[0;34m)\u001b[0m\u001b[0;34m:\u001b[0m \u001b[0;32mreturn\u001b[0m \u001b[0mself\u001b[0m\u001b[0;34m.\u001b[0m\u001b[0mmodels\u001b[0m\u001b[0;34m.\u001b[0m\u001b[0mget_layer_groups\u001b[0m\u001b[0;34m(\u001b[0m\u001b[0;34m)\u001b[0m\u001b[0;34m\u001b[0m\u001b[0m\n",
      "\u001b[0;32m~/anaconda3/envs/fastai/lib/python3.6/site-packages/fastai/model.py\u001b[0m in \u001b[0;36mfit\u001b[0;34m(model, data, n_epochs, opt, crit, metrics, callbacks, stepper, swa_model, swa_start, swa_eval_freq, visualize, **kwargs)\u001b[0m\n\u001b[1;32m    139\u001b[0m             \u001b[0mbatch_num\u001b[0m \u001b[0;34m+=\u001b[0m \u001b[0;36m1\u001b[0m\u001b[0;34m\u001b[0m\u001b[0m\n\u001b[1;32m    140\u001b[0m             \u001b[0;32mfor\u001b[0m \u001b[0mcb\u001b[0m \u001b[0;32min\u001b[0m \u001b[0mcallbacks\u001b[0m\u001b[0;34m:\u001b[0m \u001b[0mcb\u001b[0m\u001b[0;34m.\u001b[0m\u001b[0mon_batch_begin\u001b[0m\u001b[0;34m(\u001b[0m\u001b[0;34m)\u001b[0m\u001b[0;34m\u001b[0m\u001b[0m\n\u001b[0;32m--> 141\u001b[0;31m             \u001b[0mloss\u001b[0m \u001b[0;34m=\u001b[0m \u001b[0mmodel_stepper\u001b[0m\u001b[0;34m.\u001b[0m\u001b[0mstep\u001b[0m\u001b[0;34m(\u001b[0m\u001b[0mV\u001b[0m\u001b[0;34m(\u001b[0m\u001b[0mx\u001b[0m\u001b[0;34m)\u001b[0m\u001b[0;34m,\u001b[0m\u001b[0mV\u001b[0m\u001b[0;34m(\u001b[0m\u001b[0my\u001b[0m\u001b[0;34m)\u001b[0m\u001b[0;34m,\u001b[0m \u001b[0mepoch\u001b[0m\u001b[0;34m)\u001b[0m\u001b[0;34m\u001b[0m\u001b[0m\n\u001b[0m\u001b[1;32m    142\u001b[0m             \u001b[0mavg_loss\u001b[0m \u001b[0;34m=\u001b[0m \u001b[0mavg_loss\u001b[0m \u001b[0;34m*\u001b[0m \u001b[0mavg_mom\u001b[0m \u001b[0;34m+\u001b[0m \u001b[0mloss\u001b[0m \u001b[0;34m*\u001b[0m \u001b[0;34m(\u001b[0m\u001b[0;36m1\u001b[0m\u001b[0;34m-\u001b[0m\u001b[0mavg_mom\u001b[0m\u001b[0;34m)\u001b[0m\u001b[0;34m\u001b[0m\u001b[0m\n\u001b[1;32m    143\u001b[0m             \u001b[0mdebias_loss\u001b[0m \u001b[0;34m=\u001b[0m \u001b[0mavg_loss\u001b[0m \u001b[0;34m/\u001b[0m \u001b[0;34m(\u001b[0m\u001b[0;36m1\u001b[0m \u001b[0;34m-\u001b[0m \u001b[0mavg_mom\u001b[0m\u001b[0;34m**\u001b[0m\u001b[0mbatch_num\u001b[0m\u001b[0;34m)\u001b[0m\u001b[0;34m\u001b[0m\u001b[0m\n",
      "\u001b[0;32m<ipython-input-37-b08a8001c165>\u001b[0m in \u001b[0;36mstep\u001b[0;34m(self, xs, y, epoch)\u001b[0m\n\u001b[1;32m      8\u001b[0m         \u001b[0mloss\u001b[0m \u001b[0;34m=\u001b[0m \u001b[0mraw_loss\u001b[0m \u001b[0;34m=\u001b[0m \u001b[0mself\u001b[0m\u001b[0;34m.\u001b[0m\u001b[0mcrit\u001b[0m\u001b[0;34m(\u001b[0m\u001b[0moutput\u001b[0m\u001b[0;34m,\u001b[0m \u001b[0my\u001b[0m\u001b[0;34m)\u001b[0m\u001b[0;34m\u001b[0m\u001b[0m\n\u001b[1;32m      9\u001b[0m         \u001b[0;32mif\u001b[0m \u001b[0mself\u001b[0m\u001b[0;34m.\u001b[0m\u001b[0mreg_fn\u001b[0m\u001b[0;34m:\u001b[0m \u001b[0mloss\u001b[0m \u001b[0;34m=\u001b[0m \u001b[0mself\u001b[0m\u001b[0;34m.\u001b[0m\u001b[0mreg_fn\u001b[0m\u001b[0;34m(\u001b[0m\u001b[0moutput\u001b[0m\u001b[0;34m,\u001b[0m \u001b[0mxtra\u001b[0m\u001b[0;34m,\u001b[0m \u001b[0mraw_loss\u001b[0m\u001b[0;34m)\u001b[0m\u001b[0;34m\u001b[0m\u001b[0m\n\u001b[0;32m---> 10\u001b[0;31m         \u001b[0mloss\u001b[0m\u001b[0;34m.\u001b[0m\u001b[0mbackward\u001b[0m\u001b[0;34m(\u001b[0m\u001b[0;34m)\u001b[0m\u001b[0;34m\u001b[0m\u001b[0m\n\u001b[0m\u001b[1;32m     11\u001b[0m         \u001b[0;32mif\u001b[0m \u001b[0mself\u001b[0m\u001b[0;34m.\u001b[0m\u001b[0mclip\u001b[0m\u001b[0;34m:\u001b[0m   \u001b[0;31m# Gradient clipping\u001b[0m\u001b[0;34m\u001b[0m\u001b[0m\n\u001b[1;32m     12\u001b[0m             \u001b[0mnn\u001b[0m\u001b[0;34m.\u001b[0m\u001b[0mutils\u001b[0m\u001b[0;34m.\u001b[0m\u001b[0mclip_grad_norm\u001b[0m\u001b[0;34m(\u001b[0m\u001b[0mtrainable_params_\u001b[0m\u001b[0;34m(\u001b[0m\u001b[0mself\u001b[0m\u001b[0;34m.\u001b[0m\u001b[0mm\u001b[0m\u001b[0;34m)\u001b[0m\u001b[0;34m,\u001b[0m \u001b[0mself\u001b[0m\u001b[0;34m.\u001b[0m\u001b[0mclip\u001b[0m\u001b[0;34m)\u001b[0m\u001b[0;34m\u001b[0m\u001b[0m\n",
      "\u001b[0;32m~/anaconda3/envs/fastai/lib/python3.6/site-packages/torch/autograd/variable.py\u001b[0m in \u001b[0;36mbackward\u001b[0;34m(self, gradient, retain_graph, create_graph, retain_variables)\u001b[0m\n\u001b[1;32m    165\u001b[0m                 \u001b[0mVariable\u001b[0m\u001b[0;34m.\u001b[0m\u001b[0;34m\u001b[0m\u001b[0m\n\u001b[1;32m    166\u001b[0m         \"\"\"\n\u001b[0;32m--> 167\u001b[0;31m         \u001b[0mtorch\u001b[0m\u001b[0;34m.\u001b[0m\u001b[0mautograd\u001b[0m\u001b[0;34m.\u001b[0m\u001b[0mbackward\u001b[0m\u001b[0;34m(\u001b[0m\u001b[0mself\u001b[0m\u001b[0;34m,\u001b[0m \u001b[0mgradient\u001b[0m\u001b[0;34m,\u001b[0m \u001b[0mretain_graph\u001b[0m\u001b[0;34m,\u001b[0m \u001b[0mcreate_graph\u001b[0m\u001b[0;34m,\u001b[0m \u001b[0mretain_variables\u001b[0m\u001b[0;34m)\u001b[0m\u001b[0;34m\u001b[0m\u001b[0m\n\u001b[0m\u001b[1;32m    168\u001b[0m \u001b[0;34m\u001b[0m\u001b[0m\n\u001b[1;32m    169\u001b[0m     \u001b[0;32mdef\u001b[0m \u001b[0mregister_hook\u001b[0m\u001b[0;34m(\u001b[0m\u001b[0mself\u001b[0m\u001b[0;34m,\u001b[0m \u001b[0mhook\u001b[0m\u001b[0;34m)\u001b[0m\u001b[0;34m:\u001b[0m\u001b[0;34m\u001b[0m\u001b[0m\n",
      "\u001b[0;32m~/anaconda3/envs/fastai/lib/python3.6/site-packages/torch/autograd/__init__.py\u001b[0m in \u001b[0;36mbackward\u001b[0;34m(variables, grad_variables, retain_graph, create_graph, retain_variables)\u001b[0m\n\u001b[1;32m     97\u001b[0m \u001b[0;34m\u001b[0m\u001b[0m\n\u001b[1;32m     98\u001b[0m     Variable._execution_engine.run_backward(\n\u001b[0;32m---> 99\u001b[0;31m         variables, grad_variables, retain_graph)\n\u001b[0m\u001b[1;32m    100\u001b[0m \u001b[0;34m\u001b[0m\u001b[0m\n\u001b[1;32m    101\u001b[0m \u001b[0;34m\u001b[0m\u001b[0m\n",
      "\u001b[0;31mKeyboardInterrupt\u001b[0m: "
     ]
    }
   ],
   "source": [
    "learn.fit(lr, 1, wds=wd, use_clr=(20,10), cycle_len=30, stepper = Seq2SeqStepper)"
   ]
  },
  {
   "cell_type": "code",
   "execution_count": 56,
   "metadata": {},
   "outputs": [],
   "source": [
    "import time\n",
    "learn.save('sum')"
   ]
  },
  {
   "cell_type": "code",
   "execution_count": 46,
   "metadata": {},
   "outputs": [
    {
     "ename": "RuntimeError",
     "evalue": "While copying the parameter named W1, whose dimensions in the model are torch.Size([800, 300]) and whose dimensions in the checkpoint are torch.Size([500, 300]).",
     "output_type": "error",
     "traceback": [
      "\u001b[0;31m---------------------------------------------------------------------------\u001b[0m",
      "\u001b[0;31mRuntimeError\u001b[0m                              Traceback (most recent call last)",
      "\u001b[0;32m~/anaconda3/envs/fastai/lib/python3.6/site-packages/torch/nn/modules/module.py\u001b[0m in \u001b[0;36mload_state_dict\u001b[0;34m(self, state_dict, strict)\u001b[0m\n\u001b[1;32m    513\u001b[0m                 \u001b[0;32mtry\u001b[0m\u001b[0;34m:\u001b[0m\u001b[0;34m\u001b[0m\u001b[0m\n\u001b[0;32m--> 514\u001b[0;31m                     \u001b[0mown_state\u001b[0m\u001b[0;34m[\u001b[0m\u001b[0mname\u001b[0m\u001b[0;34m]\u001b[0m\u001b[0;34m.\u001b[0m\u001b[0mcopy_\u001b[0m\u001b[0;34m(\u001b[0m\u001b[0mparam\u001b[0m\u001b[0;34m)\u001b[0m\u001b[0;34m\u001b[0m\u001b[0m\n\u001b[0m\u001b[1;32m    515\u001b[0m                 \u001b[0;32mexcept\u001b[0m \u001b[0mException\u001b[0m\u001b[0;34m:\u001b[0m\u001b[0;34m\u001b[0m\u001b[0m\n",
      "\u001b[0;31mRuntimeError\u001b[0m: invalid argument 2: sizes do not match at /opt/conda/conda-bld/pytorch_1518244421288/work/torch/lib/THC/generic/THCTensorCopy.c:51",
      "\nDuring handling of the above exception, another exception occurred:\n",
      "\u001b[0;31mRuntimeError\u001b[0m                              Traceback (most recent call last)",
      "\u001b[0;32m<ipython-input-46-1c063a0ec307>\u001b[0m in \u001b[0;36m<module>\u001b[0;34m()\u001b[0m\n\u001b[0;32m----> 1\u001b[0;31m \u001b[0mlearn\u001b[0m\u001b[0;34m.\u001b[0m\u001b[0mload\u001b[0m\u001b[0;34m(\u001b[0m\u001b[0;34m'sum'\u001b[0m\u001b[0;34m)\u001b[0m\u001b[0;34m\u001b[0m\u001b[0m\n\u001b[0m",
      "\u001b[0;32m~/anaconda3/envs/fastai/lib/python3.6/site-packages/fastai/learner.py\u001b[0m in \u001b[0;36mload\u001b[0;34m(self, name)\u001b[0m\n\u001b[1;32m    105\u001b[0m \u001b[0;34m\u001b[0m\u001b[0m\n\u001b[1;32m    106\u001b[0m     \u001b[0;32mdef\u001b[0m \u001b[0mload\u001b[0m\u001b[0;34m(\u001b[0m\u001b[0mself\u001b[0m\u001b[0;34m,\u001b[0m \u001b[0mname\u001b[0m\u001b[0;34m)\u001b[0m\u001b[0;34m:\u001b[0m\u001b[0;34m\u001b[0m\u001b[0m\n\u001b[0;32m--> 107\u001b[0;31m         \u001b[0mload_model\u001b[0m\u001b[0;34m(\u001b[0m\u001b[0mself\u001b[0m\u001b[0;34m.\u001b[0m\u001b[0mmodel\u001b[0m\u001b[0;34m,\u001b[0m \u001b[0mself\u001b[0m\u001b[0;34m.\u001b[0m\u001b[0mget_model_path\u001b[0m\u001b[0;34m(\u001b[0m\u001b[0mname\u001b[0m\u001b[0;34m)\u001b[0m\u001b[0;34m)\u001b[0m\u001b[0;34m\u001b[0m\u001b[0m\n\u001b[0m\u001b[1;32m    108\u001b[0m         \u001b[0;32mif\u001b[0m \u001b[0mhasattr\u001b[0m\u001b[0;34m(\u001b[0m\u001b[0mself\u001b[0m\u001b[0;34m,\u001b[0m \u001b[0;34m'swa_model'\u001b[0m\u001b[0;34m)\u001b[0m\u001b[0;34m:\u001b[0m \u001b[0mload_model\u001b[0m\u001b[0;34m(\u001b[0m\u001b[0mself\u001b[0m\u001b[0;34m.\u001b[0m\u001b[0mswa_model\u001b[0m\u001b[0;34m,\u001b[0m \u001b[0mself\u001b[0m\u001b[0;34m.\u001b[0m\u001b[0mget_model_path\u001b[0m\u001b[0;34m(\u001b[0m\u001b[0mname\u001b[0m\u001b[0;34m)\u001b[0m\u001b[0;34m[\u001b[0m\u001b[0;34m:\u001b[0m\u001b[0;34m-\u001b[0m\u001b[0;36m3\u001b[0m\u001b[0;34m]\u001b[0m\u001b[0;34m+\u001b[0m\u001b[0;34m'-swa.h5'\u001b[0m\u001b[0;34m)\u001b[0m\u001b[0;34m\u001b[0m\u001b[0m\n\u001b[1;32m    109\u001b[0m \u001b[0;34m\u001b[0m\u001b[0m\n",
      "\u001b[0;32m~/anaconda3/envs/fastai/lib/python3.6/site-packages/fastai/torch_imports.py\u001b[0m in \u001b[0;36mload_model\u001b[0;34m(m, p)\u001b[0m\n\u001b[1;32m     38\u001b[0m             \u001b[0;32mif\u001b[0m \u001b[0mn\u001b[0m\u001b[0;34m+\u001b[0m\u001b[0;34m'_raw'\u001b[0m \u001b[0;32mnot\u001b[0m \u001b[0;32min\u001b[0m \u001b[0msd\u001b[0m\u001b[0;34m:\u001b[0m \u001b[0msd\u001b[0m\u001b[0;34m[\u001b[0m\u001b[0mn\u001b[0m\u001b[0;34m+\u001b[0m\u001b[0;34m'_raw'\u001b[0m\u001b[0;34m]\u001b[0m \u001b[0;34m=\u001b[0m \u001b[0msd\u001b[0m\u001b[0;34m[\u001b[0m\u001b[0mn\u001b[0m\u001b[0;34m]\u001b[0m\u001b[0;34m\u001b[0m\u001b[0m\n\u001b[1;32m     39\u001b[0m             \u001b[0;32mdel\u001b[0m \u001b[0msd\u001b[0m\u001b[0;34m[\u001b[0m\u001b[0mn\u001b[0m\u001b[0;34m]\u001b[0m\u001b[0;34m\u001b[0m\u001b[0m\n\u001b[0;32m---> 40\u001b[0;31m     \u001b[0mm\u001b[0m\u001b[0;34m.\u001b[0m\u001b[0mload_state_dict\u001b[0m\u001b[0;34m(\u001b[0m\u001b[0msd\u001b[0m\u001b[0;34m)\u001b[0m\u001b[0;34m\u001b[0m\u001b[0m\n\u001b[0m\u001b[1;32m     41\u001b[0m \u001b[0;34m\u001b[0m\u001b[0m\n\u001b[1;32m     42\u001b[0m \u001b[0;32mdef\u001b[0m \u001b[0mload_pre\u001b[0m\u001b[0;34m(\u001b[0m\u001b[0mpre\u001b[0m\u001b[0;34m,\u001b[0m \u001b[0mf\u001b[0m\u001b[0;34m,\u001b[0m \u001b[0mfn\u001b[0m\u001b[0;34m)\u001b[0m\u001b[0;34m:\u001b[0m\u001b[0;34m\u001b[0m\u001b[0m\n",
      "\u001b[0;32m~/anaconda3/envs/fastai/lib/python3.6/site-packages/torch/nn/modules/module.py\u001b[0m in \u001b[0;36mload_state_dict\u001b[0;34m(self, state_dict, strict)\u001b[0m\n\u001b[1;32m    517\u001b[0m                                        \u001b[0;34m'whose dimensions in the model are {} and '\u001b[0m\u001b[0;34m\u001b[0m\u001b[0m\n\u001b[1;32m    518\u001b[0m                                        \u001b[0;34m'whose dimensions in the checkpoint are {}.'\u001b[0m\u001b[0;34m\u001b[0m\u001b[0m\n\u001b[0;32m--> 519\u001b[0;31m                                        .format(name, own_state[name].size(), param.size()))\n\u001b[0m\u001b[1;32m    520\u001b[0m             \u001b[0;32melif\u001b[0m \u001b[0mstrict\u001b[0m\u001b[0;34m:\u001b[0m\u001b[0;34m\u001b[0m\u001b[0m\n\u001b[1;32m    521\u001b[0m                 raise KeyError('unexpected key \"{}\" in state_dict'\n",
      "\u001b[0;31mRuntimeError\u001b[0m: While copying the parameter named W1, whose dimensions in the model are torch.Size([800, 300]) and whose dimensions in the checkpoint are torch.Size([500, 300])."
     ]
    }
   ],
   "source": [
    "learn.load('sum')"
   ]
  },
  {
   "cell_type": "markdown",
   "metadata": {},
   "source": [
    "# test"
   ]
  },
  {
   "cell_type": "code",
   "execution_count": null,
   "metadata": {},
   "outputs": [],
   "source": []
  },
  {
   "cell_type": "code",
   "execution_count": 44,
   "metadata": {},
   "outputs": [],
   "source": [
    "x,y = next(iter(val_dl))\n",
    "probs,attns = learn.model(V(x),ret_attn=True)\n",
    "preds = to_np(probs.max(2)[1])"
   ]
  },
  {
   "cell_type": "code",
   "execution_count": null,
   "metadata": {},
   "outputs": [],
   "source": []
  },
  {
   "cell_type": "code",
   "execution_count": 45,
   "metadata": {},
   "outputs": [],
   "source": [
    "attn = to_np(attns[...,5])"
   ]
  },
  {
   "cell_type": "code",
   "execution_count": 46,
   "metadata": {},
   "outputs": [
    {
     "data": {
      "image/png": "[encoded data removed]",
      "text/plain": [
       "<Figure size 1080x720 with 9 Axes>"
      ]
     },
     "metadata": {},
     "output_type": "display_data"
    }
   ],
   "source": [
    "fig, axes = plt.subplots(3, 3, figsize=(15, 10))\n",
    "for i,ax in enumerate(axes.flat):\n",
    "    ax.plot(attn[i])"
   ]
  },
  {
   "cell_type": "code",
   "execution_count": 51,
   "metadata": {},
   "outputs": [
    {
     "name": "stdout",
     "output_type": "stream",
     "text": [
      "article :\n",
      "uk interest rates held at 4.75 % \n",
      "\n",
      " the bank of england has left interest rates on hold again at 4.75 % , in a widely - predicted move . \n",
      "\n",
      " rates went up five times from november 2003 - as the bank sought to cool the housing market and consumer debt - but have remained unchanged since august . recent data has indicated a slowdown in manufacturing and consumer spending , as well as in mortgage approvals . and retail sales disappointed over christmas , with analysts putting the drop down to less consumer confidence . \n",
      "\n",
      " rising interest rates and the accompanying slowdown in the housing market have knocked consumers ' optimism , causing a sharp fall in demand for expensive goods , according to a report earlier this week from the british retail consortium . the t_up brc said britain 's retailers had endured their worst christmas in a decade . \n",
      "\n",
      " \" today 's no change decision is correct , \" said david frost , director general of the british chambers of commerce ( t_up bcc ) . \" but , if there are clear signs that the economy slows , the t_up mpc should be ready to take quick corrective action and cut rates . \" dismal reports from the retail trade about christmas sales are worrying , if they indicate a more general weakening in consumer spending . \" \n",
      "\n",
      " mr frost added : \" the housing market outlook remains highly uncertain . \" it is widely accepted that , if house prices start falling more sharply , the risks facing the economy will worsen considerably . \" t_up cbi chief economist ian mccafferty said the economy had \" slowed in recent months in response to rate rises \" but that it was difficult to gauge from the christmas period the likely pace of activity through the summer . \" the bank is having to juggle the emergence of inflationary pressures , driven by a tight labour market and buoyant commodity prices , against the risk of an over - abrupt slowdown in consumer activity , \" he said . \" interest rates are likely to remain on hold for some time . \" \n",
      "\n",
      " on thursday there was more gloomy news on the manufacturing front , as the office for national ( t_up ons ) statistics revealed british manufacturing output unexpectedly fell in november - for the fifth month in the past six . the t_up ons said manufacturing output dropped 0.1 % in november , matching a similar unrevised fall in october and confounding economists ' expectations of a 0.3 % rise . manufacturers ' organisation , the t_up eef , said it expected the hold in interest rates to continue in the near future . it also said there was evidence that manufacturers ' confidence may be waning as the outlook for the world economy becomes more uncertain . \n",
      "\n",
      " \" so far the evidence suggests that last year 's rate increases have helped to rebalance the economy without damaging the recovery in manufacturing , \" said t_up eef chief economist , steve radley . \" however , should the business outlook start to deteriorate , the bank should stand ready to cut rates . \" some economists have predicted rates will drop later in the year , although others feel the bank may still think there is a need for a rise to 5 % before that happens . the bank remains concerned about the long - term risks posed by personal debt - which is rising at 15 % a year - if economic conditions worsen . \n",
      " _eos_\n",
      "summary :\n",
      "  t_up cbi chief economist ian mccafferty said the economy had \" slowed in recent months in response to rate rises \" but that it was difficult to gauge from the christmas period the likely pace of activity through the summer.manufacturers ' organisation , the t_up eef , said it expected the hold in interest rates to continue in the near future.\"the bank is having to juggle the emergence of inflationary pressures , driven by a tight labour market and buoyant commodity prices , against the risk of an over - abrupt slowdown in consumer activity , \" he said.the bank of england has left interest rates on hold again at 4.75 % , in a widely - predicted move.\"so far the evidence suggests that last year 's rate increases have helped to rebalance the economy without damaging the recovery in manufacturing , \" said t_up eef chief economist , steve radley.it also said there was evidence that manufacturers ' confidence may be waning as the outlook for the world economy becomes more uncertain.rates went up five times from november 2003 - as the bank sought to cool the housing market and consumer debt - but have remained unchanged since august.rising interest rates and the accompanying slowdown in the housing market have knocked consumers ' optimism , causing a sharp fall in demand for expensive goods , according to a report earlier this week from the british retail consortium.\"interest rates are likely to remain on hold for some time . \" _eos_\n",
      "predicted summary :\n",
      "\" said t_up said market , the the the the the the , the the the , , the the the the the the , the the the , the the the , the the , the the the the the the the the , the , the , , t_up , the the , the the the the the the , the the , the the , , the , , , the the t_up , , the the the , the the in the the the t_up the , the the , the , , , the , the the the , , market the the , , the , the , the the \" the , the the the market , , the , t_up the , the the , , the the the the the , the the the prices , , , the the the the , the , , the , the , the , the the the the the the the the , the , , the the , , , t_up a the the the , , the _eos_ , , the , , , , , the , the , the , , the the the , the to % , , , the , the , the , , , the the , the the , the , , the the the the , the the , the , , market the , , , the the the the , prices the\n"
     ]
    }
   ],
   "source": [
    "for i in range(1):\n",
    "    print('article :')\n",
    "    print(' '.join([art_itos[o] for o in x[:,i] if o != 1]))\n",
    "    print('summary :')\n",
    "    print(' '.join([sum_itos[o] for o in y[:,i] if o != 1]))\n",
    "    print('predicted summary :')\n",
    "    print(' '.join([sum_itos[o] for o in preds[:,i] if o!=1]))\n",
    "    "
   ]
  },
  {
   "cell_type": "code",
   "execution_count": 64,
   "metadata": {},
   "outputs": [
    {
     "data": {
      "text/plain": [
       "Seq2SeqRNN_All(\n",
       "  (emb_enc): Embedding(27200, 400, padding_idx=1)\n",
       "  (gru_enc): GRU(400, 1150, num_layers=2, dropout=0.25)\n",
       "  (out_enc): Linear(in_features=1150, out_features=400, bias=False)\n",
       "  (drop_enc): Dropout(p=0.25)\n",
       "  (emb_dec): Embedding(28378, 400, padding_idx=1)\n",
       "  (gru_dec): GRU(400, 400, num_layers=2, dropout=0.1)\n",
       "  (emb_enc_drop): Dropout(p=0.15)\n",
       "  (out_drop): Dropout(p=0.35)\n",
       "  (out): Linear(in_features=400, out_features=28378, bias=True)\n",
       "  (l2): Linear(in_features=400, out_features=400, bias=True)\n",
       "  (l3): Linear(in_features=1550, out_features=400, bias=True)\n",
       ")"
      ]
     },
     "execution_count": 64,
     "metadata": {},
     "output_type": "execute_result"
    }
   ],
   "source": [
    "m = learn.model\n",
    "m.eval()"
   ]
  },
  {
   "cell_type": "code",
   "execution_count": null,
   "metadata": {},
   "outputs": [],
   "source": []
  }
 ],
 "metadata": {
  "kernelspec": {
   "display_name": "FastAI",
   "language": "python",
   "name": "fastai"
  },
  "language_info": {
   "codemirror_mode": {
    "name": "ipython",
    "version": 3
   },
   "file_extension": ".py",
   "mimetype": "text/x-python",
   "name": "python",
   "nbconvert_exporter": "python",
   "pygments_lexer": "ipython3",
   "version": "3.6.6"
  }
 },
 "nbformat": 4,
 "nbformat_minor": 2
}
